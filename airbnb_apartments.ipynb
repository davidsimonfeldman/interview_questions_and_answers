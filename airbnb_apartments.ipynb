{
 "cells": [
  {
   "cell_type": "code",
   "execution_count": null,
   "metadata": {
    "ExecuteTime": {
     "end_time": "2021-06-06T07:40:05.829153Z",
     "start_time": "2021-06-06T07:40:04.538771Z"
    }
   },
   "outputs": [],
   "source": [
    "import pandas as pd\n",
    "x=pd.read_csv('airbnb_apartments.csv')"
   ]
  },
  {
   "cell_type": "code",
   "execution_count": null,
   "metadata": {
    "ExecuteTime": {
     "end_time": "2021-06-06T07:40:57.282051Z",
     "start_time": "2021-06-06T07:40:57.221684Z"
    }
   },
   "outputs": [],
   "source": [
    "# Import your libraries\n",
    "# Ranking Hosts By Beds\n",
    "# Rank each host based on the number of beds they have listed.\n",
    "# The host with the most beds should be ranked 1 and the host with the least number of beds should be ranked last.\n",
    "# Hosts that have the same number of beds should have the same rank.\n",
    "# A host can also own multiple properties. \n",
    "# Output the host ID, number of beds, and rank from highest rank to lowest.\n",
    "\n",
    "\n",
    "import pandas as pd\n",
    "x.head()\n",
    "df=x\n",
    "df=df.groupby('host_id')['n_beds'].sum().reset_index()\n",
    "df['rank']=df['n_beds'].rank(method='dense',ascending = False)\n",
    "df.sort_values('rank',ascending = True)"
   ]
  },
  {
   "cell_type": "code",
   "execution_count": null,
   "metadata": {},
   "outputs": [],
   "source": []
  },
  {
   "cell_type": "code",
   "execution_count": null,
   "metadata": {
    "ExecuteTime": {
     "end_time": "2021-06-06T08:04:14.565023Z",
     "start_time": "2021-06-06T08:04:14.450771Z"
    }
   },
   "outputs": [],
   "source": [
    "# Host Response Rates With Cleaning Fees\n",
    "# Find the average host response rate with a cleaning fee for each zipcode. \n",
    "# Present the results as a percentage along with the zip code value. \n",
    "# Convert the following two columns while building the query to their true types using type casts and if \n",
    "# necessary string processing: 'cleaning_fee' from TEXT to BOOL and 'host_response_rate' from TEXT to NUMERIC (take missing values as NULL). \n",
    "# Order the result in ascending order based on the average host response rater after cleaning. \n",
    "\n",
    "y=pd.read_csv('airbnb_search_details.csv')\n",
    "# Import your libraries\n",
    "import pandas as pd\n",
    "\n",
    "# Start writing code\n",
    "df = y\n",
    "df.host_response_rate = pd.to_numeric(df.host_response_rate.str.replace('%',''),errors='coerce')\n",
    "\n",
    "cleaning = df[df.cleaning_fee]\n",
    "cleaning.groupby('zipcode').host_response_rate.mean().sort_values().reset_index().dropna()"
   ]
  },
  {
   "cell_type": "code",
   "execution_count": null,
   "metadata": {
    "ExecuteTime": {
     "end_time": "2021-06-06T08:12:25.577890Z",
     "start_time": "2021-06-06T08:12:25.525233Z"
    }
   },
   "outputs": [],
   "source": [
    "y.info()"
   ]
  },
  {
   "cell_type": "code",
   "execution_count": null,
   "metadata": {},
   "outputs": [],
   "source": []
  },
  {
   "cell_type": "code",
   "execution_count": null,
   "metadata": {
    "ExecuteTime": {
     "end_time": "2021-06-06T08:21:40.147391Z",
     "start_time": "2021-06-06T08:21:40.115764Z"
    }
   },
   "outputs": [],
   "source": [
    "# Guest Or Host Kindness\n",
    "# Find whether hosts or guests give higher review scores based on their average review scores. \n",
    "# Output the higher of the average review score rounded to the 2nd decimal spot (e.g., 5.11).\n",
    "\n",
    "w=pd.read_csv('airbnb_reviews.csv')\n",
    "# Import your libraries\n",
    "import pandas as pd\n",
    "\n",
    "# Start writing code\n",
    " # Import your libraries\n",
    "import pandas as pd\n",
    "\n",
    "# Start writing code\n",
    "df=w\n",
    "print(df.groupby('from_type').review_score.mean().nlargest(1).round(2))\n",
    "print('------------------------------------------------------------------')\n",
    "print(df.groupby('from_type').review_score.mean())\n",
    "print('------------------------------------------------------------------')\n",
    "\n",
    "print(df.groupby('from_type').review_score.median())"
   ]
  },
  {
   "cell_type": "code",
   "execution_count": null,
   "metadata": {
    "ExecuteTime": {
     "end_time": "2021-06-06T08:30:40.366238Z",
     "start_time": "2021-06-06T08:30:40.320078Z"
    }
   },
   "outputs": [],
   "source": [
    "\n",
    "import numpy as np\n",
    "\n",
    "guest_avg_df = df[df[\"from_type\"] == \"guest\"][[\"from_type\",\"review_score\"]]\n",
    "guest_avg = guest_avg_df.mean()\n",
    "\n",
    "host_avg_df = df[df[\"from_type\"] == \"host\"][[\"from_type\",\"review_score\"]]\n",
    "host_avg = host_avg_df.mean()\n",
    "\n",
    "round(host_avg,2) > round(guest_avg,2)\n",
    "\n",
    "round(guest_avg,2)\n",
    "\n"
   ]
  },
  {
   "cell_type": "code",
   "execution_count": null,
   "metadata": {
    "ExecuteTime": {
     "end_time": "2021-06-06T19:18:46.918406Z",
     "start_time": "2021-06-06T19:18:46.843760Z"
    }
   },
   "outputs": [],
   "source": [
    "# Growth of Airbnb\n",
    "# Estimate the growth of Airbnb each year using the number of hosts registered as the growth metric. \n",
    "# The rate of growth is calculated\n",
    "# by taking ((number of hosts registered in the current year - number of hosts registered in the previous year) / the number of hosts registered in the previous year) * 100.\n",
    "# Output the year, number of hosts in the current year, number of hosts in the previous year, and the rate of growth. \n",
    "# Round the rate of growth to the nearest percent and order the result in the ascending order based on the year.\n",
    "# Assume that the dataset consists only of unique hosts, meaning there are no duplicate hosts listed.\n",
    "\n",
    "# Import your libraries\n",
    "import pandas as pd\n",
    "import numpy as np\n",
    "\n",
    "# -- Output\n",
    "# |year|current_year|prev_year|estimated_growth|\n",
    "\n",
    "# -- Conditions/Caveats\n",
    "# 1. Calculate the annual growth rate of hosts\n",
    "# 2. The number of hosts is count of rows, since unique \n",
    "# 3. Round to nearest pct, ascending by year\n",
    "\n",
    "# -- Procedure:\n",
    "# 1. Convert host_since to year\n",
    "# 2. Group by year, count(*) for number of hosts\n",
    "# 3. Shift current_year to get prev_year\n",
    "# 4. Calculate growth rate\n",
    "# 5. Round to nearest pct\n",
    "# 6. Order in ascending by year\n",
    "\n",
    "# Start writing code\n",
    "# import pandas as pd\n",
    "# df = airbnb_search_details\n",
    "# df['year']=pd.to_datetime(df['host_since']).dt.year\n",
    "# df = df.sort_values('year').groupby('year')['year'].agg(year='first',current_year='count')\n",
    "# df['prev_year'] = df['current_year'].shift(1)\n",
    "# df['estimated_growth']=round((df['current_year']-df['prev_year'])/df['prev_year']*100)\n",
    "# df\n",
    "\n",
    "\n",
    "\n",
    "\n",
    "\n",
    "y=pd.read_csv('airbnb_search_details.csv')\n",
    "air=y\n",
    "y.info()\n",
    "y['host_since'] =  pd.to_datetime(y['host_since'] )\n",
    "\n",
    "y\n",
    "\n",
    "total_hosts = air.groupby(air.host_since.dt.year).size().to_frame()\n",
    "\n",
    "\n",
    "total_hosts['lag'] = total_hosts.shift()\n",
    "total_hosts['pct_change'] = total_hosts[0].pct_change().mul(100).round()\n",
    "total_hosts.reset_index()"
   ]
  },
  {
   "cell_type": "code",
   "execution_count": null,
   "metadata": {},
   "outputs": [],
   "source": []
  },
  {
   "cell_type": "code",
   "execution_count": null,
   "metadata": {
    "ExecuteTime": {
     "end_time": "2021-06-07T08:59:43.596239Z",
     "start_time": "2021-06-07T08:59:43.551787Z"
    }
   },
   "outputs": [],
   "source": [
    "# Find the number of unique properties\n",
    "# Find how many the number of different property types in the dataset.  \n",
    "\n",
    "y=pd.read_csv('airbnb_searches.csv')\n",
    "  \n",
    "y.info()\n",
    "airbnb_searches=y \n",
    "df=airbnb_searches['filter_room_types'].str.split(',').explode().reset_index()\n",
    "print(df)\n",
    "result=df['filter_room_types'].unique() \n",
    "print(result)"
   ]
  },
  {
   "cell_type": "code",
   "execution_count": null,
   "metadata": {},
   "outputs": [],
   "source": []
  },
  {
   "cell_type": "code",
   "execution_count": null,
   "metadata": {
    "ExecuteTime": {
     "end_time": "2021-06-07T10:59:51.905260Z",
     "start_time": "2021-06-07T10:59:51.819775Z"
    }
   },
   "outputs": [],
   "source": [
    "# Most Popular Room Types\n",
    "# Find the room types that are searched by most people. \n",
    "# Output the room type alongside the number of searches for it. \n",
    "# Sort the result based on the number of searches in descending order.\n",
    "# Import your libraries\n",
    "import pandas as pd\n",
    "airbnb_searches=pd.read_csv('airbnb_searches.csv')\n",
    "\n",
    "# Start writing code\n",
    "# airbnb_searches.groupby('filter_room_types').count().reset_index()\n",
    "airbnb_searches['cleaned_filter'] = airbnb_searches['filter_room_types'].str.strip(',')\n",
    "df=airbnb_searches \n",
    "df.groupby('cleaned_filter').sum().n_searches.reset_index().sort_values('n_searches', ascending=False)  \n",
    "\n",
    "\n",
    "select trim(leading ',' from filter_room_types) ,sum(n_searches )from airbnb_searches\n",
    "group by 1\n",
    "order by 2 desc"
   ]
  },
  {
   "cell_type": "code",
   "execution_count": null,
   "metadata": {
    "ExecuteTime": {
     "end_time": "2021-06-15T13:08:48.173065Z",
     "start_time": "2021-06-15T13:08:48.072062Z"
    }
   },
   "outputs": [],
   "source": [
    "# Find the day of the week that most people check-in\n",
    "# Find the day of the week that most people want to check-in.\n",
    "# Output the day of the week alongside the corresponding check-incount.\n",
    "# Order records based on the check-in count in descending order.\n",
    "import pandas as pd\n",
    "import numpy as np\n",
    "airbnb_contacts=pd.read_csv('airbnb_contacts.csv')\n",
    "\n",
    "airbnb_contacts.loc[:, 'ts_contact_at':'ds_checkout'] = airbnb_contacts.loc[:, 'ts_contact_at':'ds_checkout'].apply(pd.to_datetime)\n",
    "airbnb_contacts['day_of_week'] = airbnb_contacts['ds_checkin'].dt.dayofweek\n",
    "print(airbnb_contact s)\n",
    "\n",
    "result = airbnb_contacts.groupby(['day_of_week']).size().to_frame('size').reset_index().sort_values(['size'], ascending=False).head(1)\n",
    "result\n",
    "\n",
    "\n",
    "# select EXTRACT(DOW FROM ds_checkin),count(*)\n",
    "# from airbnb_contacts\n",
    "# group by 1\n",
    "# order by 2 desc\n",
    "# limit 1 "
   ]
  },
  {
   "cell_type": "code",
   "execution_count": null,
   "metadata": {
    "ExecuteTime": {
     "end_time": "2021-06-15T13:32:26.330384Z",
     "start_time": "2021-06-15T13:32:25.427235Z"
    }
   },
   "outputs": [],
   "source": [
    "# Find the average difference between booking and check-in dates\n",
    "# Find the average number of days between the booking and check-in dates for AirBnB hosts.\n",
    "# Order the results based on the average number of days in descending order.\n",
    "# avg_days_between_booking_and_checkin DESC\n",
    "import pandas as pd\n",
    "import numpy as np\n",
    "\n",
    "airbnb_contacts=pd.read_csv('airbnb_contacts.csv')\n",
    "airbnb_contacts.loc[:, 'ts_contact_at':'ds_checkout'] = airbnb_contacts.loc[:, 'ts_contact_at':'ds_checkout'].apply(pd.to_datetime)\n",
    "airbnb_contacts['ds_checkin'] = pd.to_datetime(airbnb_contacts[\"ds_checkin\"].dt.strftime('%Y-%m-%d'))\n",
    "airbnb_contacts['ts_booking_at'] = pd.to_datetime(airbnb_contacts[\"ts_booking_at\"].dt.strftime('%Y-%m-%d'))\n",
    "\n",
    "airbnb_contacts['avg_days_between_booking_and_checkin'] = (airbnb_contacts['ds_checkin'] - airbnb_contacts['ts_booking_at']).dt.days\n",
    "result = airbnb_contacts.groupby(['id_host']).filter(lambda g: g['avg_days_between_booking_and_checkin'].mean() >= 0).groupby('id_host').mean().reset_index().sort_values('avg_days_between_booking_and_checkin',ascending = False)[['id_host','avg_days_between_booking_and_checkin']]\n",
    "result\n"
   ]
  },
  {
   "cell_type": "code",
   "execution_count": null,
   "metadata": {
    "ExecuteTime": {
     "end_time": "2021-06-15T15:53:31.477358Z",
     "start_time": "2021-06-15T15:53:31.372229Z"
    }
   },
   "outputs": [],
   "source": [
    "# Import your libraries\n",
    "import pandas as pd\n",
    "import numpy as np\n",
    "# Start writing code\n",
    "df=airbnb_contacts\n",
    "\n",
    "df['ds_checkin']=pd.to_datetime(df['ds_checkin']).dt.date\n",
    "df['ts_booking_at']=pd.to_datetime(df['ts_booking_at']).dt.date\n",
    "\n",
    "df['diff'] = (df['ds_checkin']-df['ts_booking_at']).dt.days\n",
    "df.dropna(subset=['diff'], inplace=True)\n",
    "\n",
    "\n",
    "df.groupby('id_host')['diff'].mean().reset_index().sort_values(by='diff', ascending=False)\n",
    "\n",
    "\n",
    "\n"
   ]
  },
  {
   "cell_type": "code",
   "execution_count": null,
   "metadata": {
    "ExecuteTime": {
     "end_time": "2021-06-17T10:58:00.565762Z",
     "start_time": "2021-06-17T10:57:59.950563Z"
    }
   },
   "outputs": [],
   "source": [
    "# Find matching reviewers in a way that each host is paired with a matching guest based on the given review scores\n",
    "# Find matching reviewers in a way that each host is paired with a matching guest based on the given review scores.\n",
    "#     ex: pair a guest reviewer who gave 1 with a host reviewer who gave the same score.\n",
    "# Output host id, guest id, and the corresponding review score. Present distinct review scores only.\n",
    "# Order recording by review score in descending order.\n",
    "\n",
    "\n",
    "import pandas as pd\n",
    "import numpy as np\n",
    "airbnb_reviews=pd.read_csv('airbnb_reviews.csv')\n",
    "\n",
    "hosts = airbnb_reviews[airbnb_reviews['from_type'] == 'host'][['from_user','review_score']].rename(columns = {'from_user':'host_id'})\n",
    "guests = airbnb_reviews[airbnb_reviews['from_type'] == 'guest'][['from_user','review_score']].rename(columns = {'from_user':'guest_id','review_score':'g_review_score'})\n",
    "merged_df = pd.merge(guests,hosts,left_on = 'g_review_score', right_on = 'review_score')\n",
    "result = merged_df.drop_duplicates(subset = 'review_score').sort_values('g_review_score', ascending = False)[['host_id', 'guest_id', 'g_review_score']].rename(columns = {'g_review_score':'review_score'})\n",
    "result\n",
    "\n",
    "\n",
    "\n",
    "\n",
    "\n",
    "\n",
    "\n",
    "# with a as (select   from_user guest_id, review_score\n",
    "# from airbnb_reviews\n",
    "# where from_type='guest') ,\n",
    "# b as (select   from_user host_id  ,review_score\n",
    "# from airbnb_reviews\n",
    "# where from_type='host') \n",
    "# select  distinct on (a.review_score)  host_id , guest_id,a.review_score\n",
    "# from a join b on a.review_score=b.review_score\n",
    "# order by 3 desc"
   ]
  },
  {
   "cell_type": "code",
   "execution_count": null,
   "metadata": {
    "ExecuteTime": {
     "end_time": "2021-06-19T10:39:07.479064Z",
     "start_time": "2021-06-19T10:39:07.471067Z"
    }
   },
   "outputs": [],
   "source": [
    "# Hosts' Abroad Apartments\n",
    "# Find the number of hosts that have apartments in countries of which they are not citizens.\n",
    "import pandas as pd\n",
    "import numpy as np\n",
    "airbnb_hosts=pd.read_csv('airbnb_hosts.csv')\n",
    "airbnb_apartments=pd.read_csv('airbnb_apartments.csv')\n",
    "\n",
    "import pandas as pd\n",
    "\n",
    "merged = pd.merge(airbnb_hosts, airbnb_apartments, on='host_id')\n",
    "merged = merged[merged['nationality'] != merged['country']]\n",
    "result = merged['host_id'].nunique()\n",
    "result\n",
    "\n",
    "\n",
    "\n",
    "\n",
    "\n",
    "import numpy\n",
    "import pandas as pd\n",
    "\n",
    "df = pd.merge(airbnb_hosts, airbnb_apartments, how='inner', on='host_id')\n",
    "\n",
    "df.loc[df['nationality'] != df['country'], 'host_id'].nunique()\n",
    "\n",
    "\n",
    "\n",
    "\n",
    "SELECT\n",
    "    COUNT(distinct h.host_id)\n",
    "FROM\n",
    "    airbnb_hosts h\n",
    " JOIN\n",
    "    airbnb_apartments a\n",
    "ON\n",
    "    h.host_id = a.host_id AND\n",
    "    h.nationality <> a.country\n",
    "    \n",
    "    \n",
    "    \n",
    "    select \n",
    "    count(distinct h.host_id) AS total_hosts\n",
    "from airbnb_hosts h\n",
    "inner join airbnb_apartments a\n",
    "    on h.host_id = a.host_id\n",
    "    -- and lower(a.apartment_type) = 'apartment'\n",
    "    and lower(h.nationality) != lower(a.country)\n"
   ]
  },
  {
   "cell_type": "code",
   "execution_count": null,
   "metadata": {
    "ExecuteTime": {
     "end_time": "2021-06-19T10:37:29.760038Z",
     "start_time": "2021-06-19T10:37:29.734375Z"
    }
   },
   "outputs": [],
   "source": [
    "\n",
    "\n"
   ]
  },
  {
   "cell_type": "code",
   "execution_count": null,
   "metadata": {},
   "outputs": [],
   "source": []
  },
  {
   "cell_type": "code",
   "execution_count": null,
   "metadata": {},
   "outputs": [],
   "source": []
  },
  {
   "cell_type": "code",
   "execution_count": null,
   "metadata": {
    "ExecuteTime": {
     "end_time": "2021-06-19T10:46:55.943857Z",
     "start_time": "2021-06-19T10:46:55.911850Z"
    }
   },
   "outputs": [],
   "source": [
    "# Requests Acceptance Rate\n",
    "# Find the acceptance rate of requests which is defined as the ratio of accepted contacts vs all contacts. Multiply the ratio by 100 to get the rate.\n",
    "\n",
    "\n",
    "\n",
    "import pandas as pd\n",
    "import numpy as np\n",
    "airbnb_contacts=pd.read_csv('airbnb_contacts.csv')\n",
    " \n",
    "\n",
    "result = 100* airbnb_contacts['ts_accepted_at'].count() / airbnb_contacts.shape[0]\n",
    "result\n",
    "# df.ts_accepted_at.notna().sum() / len(df) * 100\n",
    "\n",
    "\n",
    "# SELECT 100.0*SUM(CASE\n",
    "#                      WHEN ts_accepted_at IS NOT NULL THEN 1\n",
    "#                      ELSE 0\n",
    "#                  END)/COUNT(*) acceptance_rate\n",
    "# FROM airbnb_contacts\n",
    "\n",
    "# SELECT COUNT(ts_accepted_at) * 1.0 / COUNT(ts_contact_at) * 100 \n",
    "# FROM airbnb_contacts;"
   ]
  },
  {
   "cell_type": "code",
   "execution_count": null,
   "metadata": {
    "ExecuteTime": {
     "end_time": "2021-06-19T10:47:26.237287Z",
     "start_time": "2021-06-19T10:47:26.208410Z"
    }
   },
   "outputs": [],
   "source": [
    "df = airbnb_contacts\n",
    "df.ts_accepted_at.notna().sum() / len(df) * 100"
   ]
  },
  {
   "cell_type": "code",
   "execution_count": null,
   "metadata": {
    "ExecuteTime": {
     "end_time": "2021-06-19T11:00:00.986683Z",
     "start_time": "2021-06-19T11:00:00.931018Z"
    }
   },
   "outputs": [],
   "source": [
    "# Rank guests based on their ages\n",
    "# Rank guests based on their ages.\n",
    "# Output the guest id along with the corresponding rank.\n",
    "# Order records by the age in descending order.\n",
    "\n",
    "\n",
    "\n",
    "import pandas as pd\n",
    "import numpy as np\n",
    "airbnb_guests=pd.read_csv('airbnb_guests.csv')\n",
    "\n",
    " \n",
    "airbnb_guests['rank'] = airbnb_guests['age'].rank(ascending = False)\n",
    "airbnb_guests[['guest_id','rank']].sort_values('rank')\n",
    "airbnb_guests\n",
    "\n",
    "\n",
    "# select guest_id,age,rank()over(order by age desc)\n",
    "# from airbnb_guests\n",
    "\n",
    "# select guest_id,\n",
    "# RANK() OVER(ORDER BY age desc) rank\n",
    "# from airbnb_guests;"
   ]
  },
  {
   "cell_type": "code",
   "execution_count": null,
   "metadata": {
    "ExecuteTime": {
     "end_time": "2021-06-19T11:03:44.322124Z",
     "start_time": "2021-06-19T11:03:44.271119Z"
    }
   },
   "outputs": [],
   "source": [
    "# Find the total number of searches for houses Westlake neighborhood with a TV\n",
    "# Find the total number of searches for houses in Westlake neighborhood with a TV among the amenities.\n",
    "import pandas as pd\n",
    "import numpy as np\n",
    "\n",
    "airbnb_search_details=pd.read_csv('airbnb_search_details.csv')\n",
    "\n",
    "conditions=airbnb_search_details[(airbnb_search_details['neighbourhood']=='Westlake')&(airbnb_search_details['property_type']=='House')&(airbnb_search_details['amenities'].str.contains(\"TV\"))]\n",
    "result = len(conditions)\n",
    "result\n",
    "\n",
    "\n",
    "# Start writing code\n",
    "# len(airbnb_search_details[(airbnb_search_details['neighbourhood']=='Westlake') & (airbnb_search_details['property_type']=='House') &(airbnb_search_details['amenities'].str.contains('TV')) ])\n",
    "\n",
    "\n",
    "# SELECT \n",
    "#    count(*) AS n_searches\n",
    "# FROM airbnb_search_details\n",
    "# WHERE \n",
    "#     neighbourhood = 'Westlake' AND \n",
    "#     property_type = 'House'    AND \n",
    "#     amenities LIKE '%TV%'\n",
    "\n",
    "\n",
    "\n",
    "# SELECT COUNT(*) AS n_searches FROM airbnb_search_details\n",
    "# WHERE property_type = 'House'\n",
    "# AND neighbourhood = 'Westlake'\n",
    "# AND amenities ILIKE '%TV%';"
   ]
  },
  {
   "cell_type": "code",
   "execution_count": null,
   "metadata": {
    "ExecuteTime": {
     "end_time": "2021-06-19T11:09:33.457737Z",
     "start_time": "2021-06-19T11:09:33.407997Z"
    }
   },
   "outputs": [],
   "source": [
    "# Find the total number of available beds per hosts' nationality\n",
    "# Find the total number of available beds per hosts' nationality.\n",
    "# Output the nationality along with the corresponding total number of available beds.\n",
    "# Sort records by the total available beds in descending order.\n",
    "import pandas as pd\n",
    "import numpy as np\n",
    "\n",
    "\n",
    "airbnb_apartments=pd.read_csv('airbnb_apartments.csv')\n",
    "airbnb_hosts=pd.read_csv('airbnb_hosts.csv')\n",
    "\n",
    "merged_df = pd.merge(airbnb_hosts, airbnb_apartments,  how='left', left_on=['host_id'], right_on = ['host_id'])\n",
    "total_beds = merged_df.groupby(['nationality'])['n_beds'].sum().reset_index().sort_values('n_beds',ascending = False)\n",
    "result = total_beds.rename(columns={\"n_beds\": \"total_beds_available\"})\n",
    "result\n",
    "\n",
    "\n",
    "\n",
    "\n",
    "# # Start writing code\n",
    "# df = airbnb_apartments.merge(airbnb_hosts, on='host_id')\n",
    "# df.groupby('nationality').agg(total_beds_available=('n_beds', 'sum')).reset_index().sort_values(by='total_beds_available', ascending=False)"
   ]
  },
  {
   "cell_type": "code",
   "execution_count": null,
   "metadata": {
    "ExecuteTime": {
     "end_time": "2021-06-19T13:21:53.011683Z",
     "start_time": "2021-06-19T13:21:52.918474Z"
    }
   },
   "outputs": [],
   "source": [
    "# Find the top ten hotels with the most positive reviews in summer (June-Aug)\n",
    "# Find the top ten hotels with the most positive reviews in the summer (June-Aug) of 2017.\n",
    "# Output the hotel name along with the corresponding number of positive reviews.\n",
    "# Sort records based on the number of positive reviews in descending order.\n",
    "import pandas as pd\n",
    "import numpy as np\n",
    "\n",
    "\n",
    "hotel_reviews =pd.read_csv('hotel_reviews.csv')\n",
    "positive = hotel_reviews[hotel_reviews['positive_review'] !='No Positive']\n",
    "positive['review_date'] = positive['review_date'].apply(pd.to_datetime)\n",
    "filtered = positive[positive['review_date'].isin(pd.date_range('2017-06-01','2017-08-31'))]\n",
    "result = filtered.groupby(['hotel_name'])['positive_review'].count().to_frame('n_positive_reviews').reset_index().sort_values('n_positive_reviews',ascending = False).head(10)\n",
    "result"
   ]
  },
  {
   "cell_type": "code",
   "execution_count": null,
   "metadata": {
    "ExecuteTime": {
     "end_time": "2021-06-19T16:12:02.796796Z",
     "start_time": "2021-06-19T16:12:02.788702Z"
    }
   },
   "outputs": [],
   "source": [
    "# import pandas as pd\n",
    "# import numpy as np\n",
    "# from numpy import array\n",
    " \n",
    "\n",
    "# hotel_reviews =pd.read_csv('hotel_reviews.csv')\n",
    "# hotel_reviews.assign(month = lambda x: x['review_date'].apply(pd.to_datetime).dt.month ).assign(year = lambda x: x['review_date'].apply(pd.to_datetime).dt.year\n",
    "#     ).query('month.isin([6, 7, 8]) & year == 2017'\n",
    "#     ).query('positive_review != \"No Positive\"'\n",
    "#     ).groupby(['hotel_name']).size().to_frame('n_pos_reviews'\n",
    "#     ).reset_index()"
   ]
  },
  {
   "cell_type": "code",
   "execution_count": null,
   "metadata": {
    "ExecuteTime": {
     "end_time": "2021-06-19T13:28:18.289468Z",
     "start_time": "2021-06-19T13:28:18.225637Z"
    }
   },
   "outputs": [],
   "source": [
    "# Start writing code\n",
    "no_po = hotel_reviews[hotel_reviews['positive_review'] !='No Positive']\n",
    "no_po['review_date'] = no_po['review_date'].apply(pd.to_datetime)\n",
    "filtered = no_po[no_po['review_date'].isin(pd.date_range('2017-06-01','2017-08-31'))]\n",
    "result = filtered.groupby('hotel_name').positive_review.count().to_frame('cnt').reset_index().sort_values('cnt',ascending = False).head(10)"
   ]
  },
  {
   "cell_type": "code",
   "execution_count": 5,
   "metadata": {
    "ExecuteTime": {
     "end_time": "2021-06-19T16:14:38.739440Z",
     "start_time": "2021-06-19T16:14:38.668998Z"
    }
   },
   "outputs": [
    {
     "name": "stderr",
     "output_type": "stream",
     "text": [
      "2021-06-19 17:14:38,713 [4512] WARNING  py.warnings:110: [JupyterRequire] C:\\Users\\bluii\\anaconda3\\lib\\site-packages\\ipykernel_launcher.py:12: SettingWithCopyWarning: \n",
      "A value is trying to be set on a copy of a slice from a DataFrame.\n",
      "Try using .loc[row_indexer,col_indexer] = value instead\n",
      "\n",
      "See the caveats in the documentation: https://pandas.pydata.org/pandas-docs/stable/user_guide/indexing.html#returning-a-view-versus-a-copy\n",
      "  if sys.path[0] == '':\n",
      "\n"
     ]
    },
    {
     "data": {
      "text/html": [
       "<div>\n",
       "<style scoped>\n",
       "    .dataframe tbody tr th:only-of-type {\n",
       "        vertical-align: middle;\n",
       "    }\n",
       "\n",
       "    .dataframe tbody tr th {\n",
       "        vertical-align: top;\n",
       "    }\n",
       "\n",
       "    .dataframe thead th {\n",
       "        text-align: right;\n",
       "    }\n",
       "</style>\n",
       "<table border=\"1\" class=\"dataframe\">\n",
       "  <thead>\n",
       "    <tr style=\"text-align: right;\">\n",
       "      <th></th>\n",
       "      <th>hotel_name</th>\n",
       "      <th>n_negative_reviews</th>\n",
       "    </tr>\n",
       "  </thead>\n",
       "  <tbody>\n",
       "    <tr>\n",
       "      <th>0</th>\n",
       "      <td>Abba Garden</td>\n",
       "      <td>1</td>\n",
       "    </tr>\n",
       "    <tr>\n",
       "      <th>1</th>\n",
       "      <td>DoubleTree By Hilton London Excel</td>\n",
       "      <td>1</td>\n",
       "    </tr>\n",
       "    <tr>\n",
       "      <th>2</th>\n",
       "      <td>Hotel Arena</td>\n",
       "      <td>1</td>\n",
       "    </tr>\n",
       "    <tr>\n",
       "      <th>3</th>\n",
       "      <td>NH City Centre Amsterdam</td>\n",
       "      <td>1</td>\n",
       "    </tr>\n",
       "  </tbody>\n",
       "</table>\n",
       "</div>"
      ],
      "text/plain": [
       "                          hotel_name  n_negative_reviews\n",
       "0                        Abba Garden                   1\n",
       "1  DoubleTree By Hilton London Excel                   1\n",
       "2                        Hotel Arena                   1\n",
       "3           NH City Centre Amsterdam                   1"
      ]
     },
     "execution_count": 5,
     "metadata": {},
     "output_type": "execute_result"
    }
   ],
   "source": [
    "# Find the top ten hotels with the most negative reviews in summer (June-Aug)\n",
    "# Find the top ten hotels with the most negative reviews in the summer of 2017 (June-Aug).\n",
    "# Output the hotel name along with the corresponding number of negative reviews.\n",
    "# Sort records based on the number of negative reviews in descending order.\n",
    "\n",
    "\n",
    "import pandas as pd\n",
    "import numpy as np\n",
    "hotel_reviews =pd.read_csv('hotel_reviews.csv')\n",
    "# print(hotel_reviews)\n",
    "no_nega = hotel_reviews[hotel_reviews['negative_review'] !='No Negative']\n",
    "no_nega['review_date'] = no_nega['review_date'].apply(pd.to_datetime)\n",
    "filtered = no_nega[no_nega['review_date'].isin(pd.date_range('2017-06-01','2017-08-31'))]\n",
    "result = filtered.groupby(['hotel_name'])['negative_review'].count().to_frame('n_negative_reviews').reset_index().sort_values('n_negative_reviews',ascending = False).head(10)\n",
    "result\n",
    "\n",
    "\n",
    "# SELECT      hotel_name,    count(negative_review) AS n_negative_reviews \n",
    "# FROM     hotel_reviews \n",
    "# WHERE \n",
    "#     negative_review <> 'No Negative' AND \n",
    "#     review_date BETWEEN '6/1/17' AND '8/31/17'\n",
    "# GROUP BY     hotel_name\n",
    "# ORDER BY     n_negative_reviews DESC\n",
    "# LIMIT 10\n",
    "\n",
    "\n",
    "\n",
    "# SELECT      hotel_name,    max(total_number_of_reviews_reviewer_has_given) AS max_total_reviews\n",
    "# FROM hotel_reviews\n",
    "# GROUP BY    hotel_name\n",
    "# ORDER BY    max_total_reviews DESC\n",
    "# LIMIT 5"
   ]
  },
  {
   "cell_type": "code",
   "execution_count": null,
   "metadata": {
    "ExecuteTime": {
     "end_time": "2021-06-19T16:14:12.483917Z",
     "start_time": "2021-06-19T16:14:12.407251Z"
    }
   },
   "outputs": [],
   "source": [
    " "
   ]
  },
  {
   "cell_type": "code",
   "execution_count": 12,
   "metadata": {
    "ExecuteTime": {
     "end_time": "2021-06-19T16:28:36.655388Z",
     "start_time": "2021-06-19T16:28:36.598567Z"
    }
   },
   "outputs": [
    {
     "name": "stdout",
     "output_type": "stream",
     "text": [
      "hotel_name\n",
      "41                                      10.0\n",
      "ARCOTEL Wimberger                       14.0\n",
      "Abba Garden                              4.0\n",
      "Amadi Park Hotel                        10.0\n",
      "Ambassade Hotel                          1.0\n",
      "                                        ... \n",
      "The Grosvenor                            1.0\n",
      "The Nadler Kensington                    4.0\n",
      "The Student Hotel Amsterdam City        19.0\n",
      "WestCord Art Hotel Amsterdam 4 stars     1.0\n",
      "WestCord Fashion Hotel Amsterdam         6.0\n",
      "Name: total_number_of_reviews_reviewer_has_given, Length: 76, dtype: float64\n",
      "                                      max_total_reviews\n",
      "hotel_name                                             \n",
      "41                                                 10.0\n",
      "ARCOTEL Wimberger                                  14.0\n",
      "Abba Garden                                         4.0\n",
      "Amadi Park Hotel                                   10.0\n",
      "Ambassade Hotel                                     1.0\n",
      "...                                                 ...\n",
      "The Grosvenor                                       1.0\n",
      "The Nadler Kensington                               4.0\n",
      "The Student Hotel Amsterdam City                   19.0\n",
      "WestCord Art Hotel Amsterdam 4 stars                1.0\n",
      "WestCord Fashion Hotel Amsterdam                    6.0\n",
      "\n",
      "[76 rows x 1 columns]\n",
      "                              hotel_name  max_total_reviews\n",
      "0                                     41               10.0\n",
      "1                      ARCOTEL Wimberger               14.0\n",
      "2                            Abba Garden                4.0\n",
      "3                       Amadi Park Hotel               10.0\n",
      "4                        Ambassade Hotel                1.0\n",
      "..                                   ...                ...\n",
      "71                         The Grosvenor                1.0\n",
      "72                 The Nadler Kensington                4.0\n",
      "73      The Student Hotel Amsterdam City               19.0\n",
      "74  WestCord Art Hotel Amsterdam 4 stars                1.0\n",
      "75      WestCord Fashion Hotel Amsterdam                6.0\n",
      "\n",
      "[76 rows x 2 columns]\n"
     ]
    },
    {
     "data": {
      "text/html": [
       "<div>\n",
       "<style scoped>\n",
       "    .dataframe tbody tr th:only-of-type {\n",
       "        vertical-align: middle;\n",
       "    }\n",
       "\n",
       "    .dataframe tbody tr th {\n",
       "        vertical-align: top;\n",
       "    }\n",
       "\n",
       "    .dataframe thead th {\n",
       "        text-align: right;\n",
       "    }\n",
       "</style>\n",
       "<table border=\"1\" class=\"dataframe\">\n",
       "  <thead>\n",
       "    <tr style=\"text-align: right;\">\n",
       "      <th></th>\n",
       "      <th>hotel_name</th>\n",
       "      <th>max_total_reviews</th>\n",
       "    </tr>\n",
       "  </thead>\n",
       "  <tbody>\n",
       "    <tr>\n",
       "      <th>37</th>\n",
       "      <td>Hotel Moonlight</td>\n",
       "      <td>41.0</td>\n",
       "    </tr>\n",
       "    <tr>\n",
       "      <th>60</th>\n",
       "      <td>Ramada Apollo Amsterdam Centre</td>\n",
       "      <td>31.0</td>\n",
       "    </tr>\n",
       "    <tr>\n",
       "      <th>8</th>\n",
       "      <td>Auteuil Tour Eiffel</td>\n",
       "      <td>29.0</td>\n",
       "    </tr>\n",
       "    <tr>\n",
       "      <th>9</th>\n",
       "      <td>Baglioni Hotel London The Leading Hotels of th...</td>\n",
       "      <td>28.0</td>\n",
       "    </tr>\n",
       "    <tr>\n",
       "      <th>32</th>\n",
       "      <td>Hotel Arena</td>\n",
       "      <td>23.0</td>\n",
       "    </tr>\n",
       "  </tbody>\n",
       "</table>\n",
       "</div>"
      ],
      "text/plain": [
       "                                           hotel_name  max_total_reviews\n",
       "37                                    Hotel Moonlight               41.0\n",
       "60                     Ramada Apollo Amsterdam Centre               31.0\n",
       "8                                 Auteuil Tour Eiffel               29.0\n",
       "9   Baglioni Hotel London The Leading Hotels of th...               28.0\n",
       "32                                        Hotel Arena               23.0"
      ]
     },
     "execution_count": 12,
     "metadata": {},
     "output_type": "execute_result"
    }
   ],
   "source": [
    "# Find the top five hotels with the highest total reviews given by a particular reviewer\n",
    "# Find the top five hotels with the highest total reviews given by the most active reviewer.\n",
    "# Output the hotel name along with the highest total reviews.\n",
    "# Order records based on the highest total reviews in descending order.\n",
    "\n",
    "\n",
    "\n",
    "import pandas as pd\n",
    "import numpy as np\n",
    "\n",
    "result = hotel_reviews.groupby(['hotel_name'])['total_number_of_reviews_reviewer_has_given'].max()\n",
    "print(result)\n",
    "print(result.to_frame('max_total_reviews'))\n",
    "print(result.to_frame('max_total_reviews').reset_index())\n",
    "result.to_frame('max_total_reviews').reset_index().sort_values('max_total_reviews', ascending = False).head()"
   ]
  },
  {
   "cell_type": "code",
   "execution_count": 15,
   "metadata": {
    "ExecuteTime": {
     "end_time": "2021-06-19T16:34:09.106389Z",
     "start_time": "2021-06-19T16:34:09.070369Z"
    }
   },
   "outputs": [
    {
     "data": {
      "text/html": [
       "<div>\n",
       "<style scoped>\n",
       "    .dataframe tbody tr th:only-of-type {\n",
       "        vertical-align: middle;\n",
       "    }\n",
       "\n",
       "    .dataframe tbody tr th {\n",
       "        vertical-align: top;\n",
       "    }\n",
       "\n",
       "    .dataframe thead th {\n",
       "        text-align: right;\n",
       "    }\n",
       "</style>\n",
       "<table border=\"1\" class=\"dataframe\">\n",
       "  <thead>\n",
       "    <tr style=\"text-align: right;\">\n",
       "      <th></th>\n",
       "      <th>n_nights</th>\n",
       "      <th>total_searches</th>\n",
       "    </tr>\n",
       "  </thead>\n",
       "  <tbody>\n",
       "    <tr>\n",
       "      <th>2</th>\n",
       "      <td>3.0</td>\n",
       "      <td>806</td>\n",
       "    </tr>\n",
       "    <tr>\n",
       "      <th>1</th>\n",
       "      <td>2.0</td>\n",
       "      <td>780</td>\n",
       "    </tr>\n",
       "    <tr>\n",
       "      <th>7</th>\n",
       "      <td>8.0</td>\n",
       "      <td>366</td>\n",
       "    </tr>\n",
       "    <tr>\n",
       "      <th>3</th>\n",
       "      <td>4.0</td>\n",
       "      <td>285</td>\n",
       "    </tr>\n",
       "    <tr>\n",
       "      <th>0</th>\n",
       "      <td>1.0</td>\n",
       "      <td>167</td>\n",
       "    </tr>\n",
       "    <tr>\n",
       "      <th>6</th>\n",
       "      <td>7.0</td>\n",
       "      <td>157</td>\n",
       "    </tr>\n",
       "    <tr>\n",
       "      <th>4</th>\n",
       "      <td>5.0</td>\n",
       "      <td>95</td>\n",
       "    </tr>\n",
       "    <tr>\n",
       "      <th>5</th>\n",
       "      <td>6.0</td>\n",
       "      <td>66</td>\n",
       "    </tr>\n",
       "    <tr>\n",
       "      <th>9</th>\n",
       "      <td>13.0</td>\n",
       "      <td>29</td>\n",
       "    </tr>\n",
       "    <tr>\n",
       "      <th>13</th>\n",
       "      <td>76.0</td>\n",
       "      <td>13</td>\n",
       "    </tr>\n",
       "    <tr>\n",
       "      <th>11</th>\n",
       "      <td>29.0</td>\n",
       "      <td>8</td>\n",
       "    </tr>\n",
       "    <tr>\n",
       "      <th>10</th>\n",
       "      <td>22.0</td>\n",
       "      <td>7</td>\n",
       "    </tr>\n",
       "    <tr>\n",
       "      <th>12</th>\n",
       "      <td>31.0</td>\n",
       "      <td>5</td>\n",
       "    </tr>\n",
       "    <tr>\n",
       "      <th>8</th>\n",
       "      <td>9.0</td>\n",
       "      <td>1</td>\n",
       "    </tr>\n",
       "  </tbody>\n",
       "</table>\n",
       "</div>"
      ],
      "text/plain": [
       "    n_nights  total_searches\n",
       "2        3.0             806\n",
       "1        2.0             780\n",
       "7        8.0             366\n",
       "3        4.0             285\n",
       "0        1.0             167\n",
       "6        7.0             157\n",
       "4        5.0              95\n",
       "5        6.0              66\n",
       "9       13.0              29\n",
       "13      76.0              13\n",
       "11      29.0               8\n",
       "10      22.0               7\n",
       "12      31.0               5\n",
       "8        9.0               1"
      ]
     },
     "execution_count": 15,
     "metadata": {},
     "output_type": "execute_result"
    }
   ],
   "source": [
    "# Find the number of nights that are searching for when trying to book a host\n",
    "# Find the number of nights that are searched by most people when trying to book a host.\n",
    "# Output the number of nights alongside the total searches.\n",
    "# Order records based on the total searches in descending order.\n",
    "import pandas as pd\n",
    "import numpy as np\n",
    "airbnb_searches=pd.read_csv('airbnb_searches.csv')\n",
    "\n",
    "result = airbnb_searches.groupby(['n_nights'])['n_searches'].sum().to_frame('total_searches').reset_index().sort_values('total_searches', ascending = False)\n",
    "result\n",
    "\n",
    "#  SELECT     n_nights,    sum(n_searches) AS total_searches\n",
    "# FROM airbnb_searches\n",
    "# GROUP BY     n_nights\n",
    "# ORDER BY     total_searches DESC"
   ]
  },
  {
   "cell_type": "code",
   "execution_count": 17,
   "metadata": {
    "ExecuteTime": {
     "end_time": "2021-06-19T16:40:40.573619Z",
     "start_time": "2021-06-19T16:40:40.538135Z"
    }
   },
   "outputs": [
    {
     "data": {
      "text/html": [
       "<div>\n",
       "<style scoped>\n",
       "    .dataframe tbody tr th:only-of-type {\n",
       "        vertical-align: middle;\n",
       "    }\n",
       "\n",
       "    .dataframe tbody tr th {\n",
       "        vertical-align: top;\n",
       "    }\n",
       "\n",
       "    .dataframe thead th {\n",
       "        text-align: right;\n",
       "    }\n",
       "</style>\n",
       "<table border=\"1\" class=\"dataframe\">\n",
       "  <thead>\n",
       "    <tr style=\"text-align: right;\">\n",
       "      <th></th>\n",
       "      <th>reviewer_nationality</th>\n",
       "      <th>n_positive_reviews</th>\n",
       "    </tr>\n",
       "  </thead>\n",
       "  <tbody>\n",
       "    <tr>\n",
       "      <th>28</th>\n",
       "      <td>United Kingdom</td>\n",
       "      <td>33</td>\n",
       "    </tr>\n",
       "    <tr>\n",
       "      <th>29</th>\n",
       "      <td>United States of America</td>\n",
       "      <td>11</td>\n",
       "    </tr>\n",
       "    <tr>\n",
       "      <th>0</th>\n",
       "      <td>Australia</td>\n",
       "      <td>6</td>\n",
       "    </tr>\n",
       "    <tr>\n",
       "      <th>18</th>\n",
       "      <td>Netherlands</td>\n",
       "      <td>4</td>\n",
       "    </tr>\n",
       "    <tr>\n",
       "      <th>5</th>\n",
       "      <td>France</td>\n",
       "      <td>3</td>\n",
       "    </tr>\n",
       "    <tr>\n",
       "      <th>25</th>\n",
       "      <td>Switzerland</td>\n",
       "      <td>3</td>\n",
       "    </tr>\n",
       "    <tr>\n",
       "      <th>12</th>\n",
       "      <td>Ireland</td>\n",
       "      <td>3</td>\n",
       "    </tr>\n",
       "    <tr>\n",
       "      <th>13</th>\n",
       "      <td>Israel</td>\n",
       "      <td>3</td>\n",
       "    </tr>\n",
       "    <tr>\n",
       "      <th>6</th>\n",
       "      <td>Greece</td>\n",
       "      <td>2</td>\n",
       "    </tr>\n",
       "    <tr>\n",
       "      <th>27</th>\n",
       "      <td>Turkey</td>\n",
       "      <td>2</td>\n",
       "    </tr>\n",
       "    <tr>\n",
       "      <th>9</th>\n",
       "      <td>India</td>\n",
       "      <td>2</td>\n",
       "    </tr>\n",
       "    <tr>\n",
       "      <th>22</th>\n",
       "      <td>Singapore</td>\n",
       "      <td>2</td>\n",
       "    </tr>\n",
       "    <tr>\n",
       "      <th>3</th>\n",
       "      <td>Cyprus</td>\n",
       "      <td>1</td>\n",
       "    </tr>\n",
       "    <tr>\n",
       "      <th>20</th>\n",
       "      <td>Portugal</td>\n",
       "      <td>1</td>\n",
       "    </tr>\n",
       "    <tr>\n",
       "      <th>2</th>\n",
       "      <td>China</td>\n",
       "      <td>1</td>\n",
       "    </tr>\n",
       "    <tr>\n",
       "      <th>26</th>\n",
       "      <td>Tunisia</td>\n",
       "      <td>1</td>\n",
       "    </tr>\n",
       "    <tr>\n",
       "      <th>24</th>\n",
       "      <td>Spain</td>\n",
       "      <td>1</td>\n",
       "    </tr>\n",
       "    <tr>\n",
       "      <th>23</th>\n",
       "      <td>South Africa</td>\n",
       "      <td>1</td>\n",
       "    </tr>\n",
       "    <tr>\n",
       "      <th>21</th>\n",
       "      <td>Romania</td>\n",
       "      <td>1</td>\n",
       "    </tr>\n",
       "    <tr>\n",
       "      <th>16</th>\n",
       "      <td>Lebanon</td>\n",
       "      <td>1</td>\n",
       "    </tr>\n",
       "    <tr>\n",
       "      <th>19</th>\n",
       "      <td>Norway</td>\n",
       "      <td>1</td>\n",
       "    </tr>\n",
       "    <tr>\n",
       "      <th>17</th>\n",
       "      <td>Malaysia</td>\n",
       "      <td>1</td>\n",
       "    </tr>\n",
       "    <tr>\n",
       "      <th>4</th>\n",
       "      <td>Czech Republic</td>\n",
       "      <td>1</td>\n",
       "    </tr>\n",
       "    <tr>\n",
       "      <th>1</th>\n",
       "      <td>Canada</td>\n",
       "      <td>1</td>\n",
       "    </tr>\n",
       "    <tr>\n",
       "      <th>14</th>\n",
       "      <td>Italy</td>\n",
       "      <td>1</td>\n",
       "    </tr>\n",
       "    <tr>\n",
       "      <th>11</th>\n",
       "      <td>Iraq</td>\n",
       "      <td>1</td>\n",
       "    </tr>\n",
       "    <tr>\n",
       "      <th>10</th>\n",
       "      <td>Iran</td>\n",
       "      <td>1</td>\n",
       "    </tr>\n",
       "    <tr>\n",
       "      <th>8</th>\n",
       "      <td>Hungary</td>\n",
       "      <td>1</td>\n",
       "    </tr>\n",
       "    <tr>\n",
       "      <th>7</th>\n",
       "      <td>Guernsey</td>\n",
       "      <td>1</td>\n",
       "    </tr>\n",
       "    <tr>\n",
       "      <th>15</th>\n",
       "      <td>Japan</td>\n",
       "      <td>1</td>\n",
       "    </tr>\n",
       "  </tbody>\n",
       "</table>\n",
       "</div>"
      ],
      "text/plain": [
       "        reviewer_nationality  n_positive_reviews\n",
       "28            United Kingdom                  33\n",
       "29  United States of America                  11\n",
       "0                  Australia                   6\n",
       "18               Netherlands                   4\n",
       "5                     France                   3\n",
       "25               Switzerland                   3\n",
       "12                   Ireland                   3\n",
       "13                    Israel                   3\n",
       "6                     Greece                   2\n",
       "27                    Turkey                   2\n",
       "9                      India                   2\n",
       "22                 Singapore                   2\n",
       "3                     Cyprus                   1\n",
       "20                  Portugal                   1\n",
       "2                      China                   1\n",
       "26                   Tunisia                   1\n",
       "24                     Spain                   1\n",
       "23              South Africa                   1\n",
       "21                   Romania                   1\n",
       "16                   Lebanon                   1\n",
       "19                    Norway                   1\n",
       "17                  Malaysia                   1\n",
       "4             Czech Republic                   1\n",
       "1                     Canada                   1\n",
       "14                     Italy                   1\n",
       "11                      Iraq                   1\n",
       "10                      Iran                   1\n",
       "8                    Hungary                   1\n",
       "7                   Guernsey                   1\n",
       "15                     Japan                   1"
      ]
     },
     "execution_count": 17,
     "metadata": {},
     "output_type": "execute_result"
    }
   ],
   "source": [
    "# Find the countries with the most positive reviews\n",
    "# Find the countries with the most positive reviews.\n",
    "# Output the country along with the number of positive reviews.\n",
    "# Sort records based on the number of positive reviews in descending order.\n",
    "\n",
    "import pandas as pd\n",
    "import numpy as np\n",
    "\n",
    "positive = hotel_reviews[hotel_reviews['positive_review'] !='No Positive']\n",
    "result = positive.groupby(['reviewer_nationality'])['positive_review'].count().to_frame('n_positive_reviews').reset_index().sort_values('n_positive_reviews', ascending = False)\n",
    "result\n",
    "\n",
    "# SELECT     reviewer_nationality,  count(positive_review) AS n_positive_reviews\n",
    "# FROM hotel_reviews\n",
    "# WHERE     NOT positive_review = 'No Positive'\n",
    "# GROUP BY     reviewer_nationality\n",
    "# ORDER BY      n_positive_reviews DESC"
   ]
  },
  {
   "cell_type": "code",
   "execution_count": null,
   "metadata": {},
   "outputs": [],
   "source": []
  }
 ],
 "metadata": {
  "kernelspec": {
   "display_name": "Python 3",
   "language": "python",
   "name": "python3"
  },
  "language_info": {
   "codemirror_mode": {
    "name": "ipython",
    "version": 3
   },
   "file_extension": ".py",
   "mimetype": "text/x-python",
   "name": "python",
   "nbconvert_exporter": "python",
   "pygments_lexer": "ipython3",
   "version": "3.7.6"
  }
 },
 "nbformat": 4,
 "nbformat_minor": 4
}
