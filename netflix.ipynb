{
 "cells": [
  {
   "cell_type": "code",
   "execution_count": 9,
   "metadata": {
    "ExecuteTime": {
     "end_time": "2021-06-11T22:25:11.781983Z",
     "start_time": "2021-06-11T22:25:11.712714Z"
    }
   },
   "outputs": [
    {
     "data": {
      "text/html": [
       "<div>\n",
       "<style scoped>\n",
       "    .dataframe tbody tr th:only-of-type {\n",
       "        vertical-align: middle;\n",
       "    }\n",
       "\n",
       "    .dataframe tbody tr th {\n",
       "        vertical-align: top;\n",
       "    }\n",
       "\n",
       "    .dataframe thead th {\n",
       "        text-align: right;\n",
       "    }\n",
       "</style>\n",
       "<table border=\"1\" class=\"dataframe\">\n",
       "  <thead>\n",
       "    <tr style=\"text-align: right;\">\n",
       "      <th></th>\n",
       "      <th>name</th>\n",
       "      <th>rating</th>\n",
       "      <th>birthday</th>\n",
       "    </tr>\n",
       "  </thead>\n",
       "  <tbody>\n",
       "    <tr>\n",
       "      <th>48</th>\n",
       "      <td>Cary Grant</td>\n",
       "      <td>NaN</td>\n",
       "      <td>1904-01-18</td>\n",
       "    </tr>\n",
       "    <tr>\n",
       "      <th>188</th>\n",
       "      <td>John Wayne</td>\n",
       "      <td>NaN</td>\n",
       "      <td>1907-05-26</td>\n",
       "    </tr>\n",
       "    <tr>\n",
       "      <th>20</th>\n",
       "      <td>Anna Magnani</td>\n",
       "      <td>NaN</td>\n",
       "      <td>1908-03-07</td>\n",
       "    </tr>\n",
       "    <tr>\n",
       "      <th>156</th>\n",
       "      <td>James Stewart</td>\n",
       "      <td>NaN</td>\n",
       "      <td>1908-05-20</td>\n",
       "    </tr>\n",
       "    <tr>\n",
       "      <th>214</th>\n",
       "      <td>Kevin McCarthy</td>\n",
       "      <td>NaN</td>\n",
       "      <td>1914-02-15</td>\n",
       "    </tr>\n",
       "    <tr>\n",
       "      <th>...</th>\n",
       "      <td>...</td>\n",
       "      <td>...</td>\n",
       "      <td>...</td>\n",
       "    </tr>\n",
       "    <tr>\n",
       "      <th>168</th>\n",
       "      <td>Jennifer Lawrence</td>\n",
       "      <td>6.400000</td>\n",
       "      <td>1990-08-15</td>\n",
       "    </tr>\n",
       "    <tr>\n",
       "      <th>332</th>\n",
       "      <td>Saoirse Ronan</td>\n",
       "      <td>5.000000</td>\n",
       "      <td>1994-04-12</td>\n",
       "    </tr>\n",
       "    <tr>\n",
       "      <th>0</th>\n",
       "      <td>Abigail Breslin</td>\n",
       "      <td>5.750000</td>\n",
       "      <td>1996-04-14</td>\n",
       "    </tr>\n",
       "    <tr>\n",
       "      <th>132</th>\n",
       "      <td>Hailee Steinfeld</td>\n",
       "      <td>4.666667</td>\n",
       "      <td>1996-12-11</td>\n",
       "    </tr>\n",
       "    <tr>\n",
       "      <th>295</th>\n",
       "      <td>Quvenzhan_ Wallis</td>\n",
       "      <td>7.000000</td>\n",
       "      <td>2003-08-28</td>\n",
       "    </tr>\n",
       "  </tbody>\n",
       "</table>\n",
       "<p>383 rows × 3 columns</p>\n",
       "</div>"
      ],
      "text/plain": [
       "                  name    rating    birthday\n",
       "48          Cary Grant       NaN  1904-01-18\n",
       "188         John Wayne       NaN  1907-05-26\n",
       "20        Anna Magnani       NaN  1908-03-07\n",
       "156      James Stewart       NaN  1908-05-20\n",
       "214     Kevin McCarthy       NaN  1914-02-15\n",
       "..                 ...       ...         ...\n",
       "168  Jennifer Lawrence  6.400000  1990-08-15\n",
       "332      Saoirse Ronan  5.000000  1994-04-12\n",
       "0      Abigail Breslin  5.750000  1996-04-14\n",
       "132   Hailee Steinfeld  4.666667  1996-12-11\n",
       "295  Quvenzhan_ Wallis  7.000000  2003-08-28\n",
       "\n",
       "[383 rows x 3 columns]"
      ]
     },
     "execution_count": 9,
     "metadata": {},
     "output_type": "execute_result"
    }
   ],
   "source": [
    "# Find the average rating of movie stars\n",
    "# Find the average rating of each movie star along with their names and birthdays.\n",
    "# Sort the result in the ascending order based on the birthday.\n",
    "# Import your libraries\n",
    "import pandas as pd\n",
    "# import datatime\n",
    "nominee_information=pd.read_csv('nominee_information.csv')\n",
    "nominee_filmography=pd.read_csv('nominee_filmography.csv')\n",
    "# Start writing code\n",
    "df = nominee_filmography.groupby('name')['rating'].mean().reset_index()\n",
    "\n",
    "result = pd.merge(df,nominee_information[['name','birthday']], on= 'name',how='inner')\n",
    "result['birthday'] =  pd.to_datetime(result['birthday'], format='%d-%m-%Y' ).dt.strftime('%Y-%m-%d')\n",
    "result.sort_values(by='birthday')\n",
    "\n",
    "# select  distinct  f.name,birthday,avg(rating)over(partition by f.name)\n",
    "# from nominee_filmography f\n",
    "# join nominee_information i\n",
    "# on  f.name=i.name\n",
    "# order by 2"
   ]
  },
  {
   "cell_type": "code",
   "execution_count": null,
   "metadata": {},
   "outputs": [],
   "source": []
  },
  {
   "cell_type": "code",
   "execution_count": 11,
   "metadata": {
    "ExecuteTime": {
     "end_time": "2021-06-11T22:44:09.974402Z",
     "start_time": "2021-06-11T22:44:09.889397Z"
    }
   },
   "outputs": [
    {
     "name": "stderr",
     "output_type": "stream",
     "text": [
      "2021-06-11 23:44:09,923 [4708] WARNING  py.warnings:110: [JupyterRequire] C:\\Users\\bluii\\anaconda3\\lib\\site-packages\\ipykernel_launcher.py:11: SettingWithCopyWarning: \n",
      "A value is trying to be set on a copy of a slice from a DataFrame.\n",
      "Try using .loc[row_indexer,col_indexer] = value instead\n",
      "\n",
      "See the caveats in the documentation: https://pandas.pydata.org/pandas-docs/stable/user_guide/indexing.html#returning-a-view-versus-a-copy\n",
      "  # This is added back by InteractiveShellApp.init_path()\n",
      "\n"
     ]
    },
    {
     "data": {
      "text/html": [
       "<div>\n",
       "<style scoped>\n",
       "    .dataframe tbody tr th:only-of-type {\n",
       "        vertical-align: middle;\n",
       "    }\n",
       "\n",
       "    .dataframe tbody tr th {\n",
       "        vertical-align: top;\n",
       "    }\n",
       "\n",
       "    .dataframe thead th {\n",
       "        text-align: right;\n",
       "    }\n",
       "</style>\n",
       "<table border=\"1\" class=\"dataframe\">\n",
       "  <thead>\n",
       "    <tr style=\"text-align: right;\">\n",
       "      <th></th>\n",
       "      <th>name</th>\n",
       "      <th>rating</th>\n",
       "      <th>lifetime_rating</th>\n",
       "      <th>variance</th>\n",
       "    </tr>\n",
       "  </thead>\n",
       "  <tbody>\n",
       "    <tr>\n",
       "      <th>0</th>\n",
       "      <td>Helena Bonham Carter</td>\n",
       "      <td>2.0</td>\n",
       "      <td>4.000000</td>\n",
       "      <td>-2.000000</td>\n",
       "    </tr>\n",
       "    <tr>\n",
       "      <th>1</th>\n",
       "      <td>Jacki Weaver</td>\n",
       "      <td>5.0</td>\n",
       "      <td>6.250000</td>\n",
       "      <td>-1.250000</td>\n",
       "    </tr>\n",
       "    <tr>\n",
       "      <th>2</th>\n",
       "      <td>Anna Kendrick</td>\n",
       "      <td>4.0</td>\n",
       "      <td>4.571429</td>\n",
       "      <td>-0.571429</td>\n",
       "    </tr>\n",
       "    <tr>\n",
       "      <th>3</th>\n",
       "      <td>Pen_lope Cruz</td>\n",
       "      <td>5.0</td>\n",
       "      <td>3.500000</td>\n",
       "      <td>1.500000</td>\n",
       "    </tr>\n",
       "    <tr>\n",
       "      <th>4</th>\n",
       "      <td>Peter Fonda</td>\n",
       "      <td>2.0</td>\n",
       "      <td>2.000000</td>\n",
       "      <td>0.000000</td>\n",
       "    </tr>\n",
       "    <tr>\n",
       "      <th>...</th>\n",
       "      <td>...</td>\n",
       "      <td>...</td>\n",
       "      <td>...</td>\n",
       "      <td>...</td>\n",
       "    </tr>\n",
       "    <tr>\n",
       "      <th>201</th>\n",
       "      <td>Reese Witherspoon</td>\n",
       "      <td>6.0</td>\n",
       "      <td>6.500000</td>\n",
       "      <td>-0.500000</td>\n",
       "    </tr>\n",
       "    <tr>\n",
       "      <th>202</th>\n",
       "      <td>Sam Shepard</td>\n",
       "      <td>5.0</td>\n",
       "      <td>5.333333</td>\n",
       "      <td>-0.333333</td>\n",
       "    </tr>\n",
       "    <tr>\n",
       "      <th>203</th>\n",
       "      <td>Ellen Page</td>\n",
       "      <td>6.0</td>\n",
       "      <td>5.333333</td>\n",
       "      <td>0.666667</td>\n",
       "    </tr>\n",
       "    <tr>\n",
       "      <th>204</th>\n",
       "      <td>Robert De Niro</td>\n",
       "      <td>3.0</td>\n",
       "      <td>3.750000</td>\n",
       "      <td>-0.750000</td>\n",
       "    </tr>\n",
       "    <tr>\n",
       "      <th>205</th>\n",
       "      <td>Ralph Fiennes</td>\n",
       "      <td>7.0</td>\n",
       "      <td>6.200000</td>\n",
       "      <td>0.800000</td>\n",
       "    </tr>\n",
       "  </tbody>\n",
       "</table>\n",
       "<p>206 rows × 4 columns</p>\n",
       "</div>"
      ],
      "text/plain": [
       "                     name  rating  lifetime_rating  variance\n",
       "0    Helena Bonham Carter     2.0         4.000000 -2.000000\n",
       "1            Jacki Weaver     5.0         6.250000 -1.250000\n",
       "2           Anna Kendrick     4.0         4.571429 -0.571429\n",
       "3           Pen_lope Cruz     5.0         3.500000  1.500000\n",
       "4             Peter Fonda     2.0         2.000000  0.000000\n",
       "..                    ...     ...              ...       ...\n",
       "201     Reese Witherspoon     6.0         6.500000 -0.500000\n",
       "202           Sam Shepard     5.0         5.333333 -0.333333\n",
       "203            Ellen Page     6.0         5.333333  0.666667\n",
       "204        Robert De Niro     3.0         3.750000 -0.750000\n",
       "205         Ralph Fiennes     7.0         6.200000  0.800000\n",
       "\n",
       "[206 rows x 4 columns]"
      ]
     },
     "execution_count": 11,
     "metadata": {},
     "output_type": "execute_result"
    }
   ],
   "source": [
    "# # Differences In Movie Ratings\n",
    "# # Calculate the average lifetime rating and rating from the second latest film across all actors and all films they had acted in. \n",
    "# # Output a list of actors, their average lifetime rating, rating from the second latest film, and the difference between the two ratings.\n",
    "\n",
    "\n",
    "import pandas as pd\n",
    "import numpy as np\n",
    "nominee_information=pd.read_csv('nominee_information.csv')\n",
    "nominee_filmography=pd.read_csv('nominee_filmography.csv')\n",
    "df = nominee_filmography[~nominee_filmography['rating'].isna()]\n",
    "df['film_order'] = df.groupby(['name'])['id'].rank(ascending=True)\n",
    "result = df[df['film_order']==2][['name', 'rating']].set_index('name')\n",
    "result['lifetime_rating'] = df.groupby(['name'])['rating'].mean()\n",
    "result['variance'] = result['rating'] - result['lifetime_rating']\n",
    "result = result.reset_index()\n",
    "result\n",
    "\n",
    "\n",
    "\n",
    "# with a as\n",
    "# (select  name,rating,id,row_number()over(partition by name order by name desc, id asc) rn\n",
    "# from nominee_filmography\n",
    "#  where rating is not null),\n",
    "#  b as (select name,ROUND(AVG(rating)::numeric,1) as lifetime_rating\t\n",
    "#  from nominee_filmography \n",
    "# where rating is not null  group by 1)\n",
    "# select a.name, a.rating second_last_rating ,lifetime_rating,\n",
    "# round((a.rating -lifetime_rating)::numeric, 1)  variance\t\n",
    "#  from a join b\n",
    "# on a.name=b.name\n",
    "# where rn=2\n"
   ]
  },
  {
   "cell_type": "code",
   "execution_count": 24,
   "metadata": {
    "ExecuteTime": {
     "end_time": "2021-06-11T23:25:56.975886Z",
     "start_time": "2021-06-11T23:25:56.896883Z"
    }
   },
   "outputs": [
    {
     "name": "stdout",
     "output_type": "stream",
     "text": [
      "          nominee  n_win            name amg_person_id top_genre    birthday  \\\n",
      "4  Ingrid Bergman      3  Ingrid Bergman        P 5652     Drama  29-08-1915   \n",
      "\n",
      "    id  \n",
      "4  140  \n"
     ]
    },
    {
     "data": {
      "text/html": [
       "<div>\n",
       "<style scoped>\n",
       "    .dataframe tbody tr th:only-of-type {\n",
       "        vertical-align: middle;\n",
       "    }\n",
       "\n",
       "    .dataframe tbody tr th {\n",
       "        vertical-align: top;\n",
       "    }\n",
       "\n",
       "    .dataframe thead th {\n",
       "        text-align: right;\n",
       "    }\n",
       "</style>\n",
       "<table border=\"1\" class=\"dataframe\">\n",
       "  <thead>\n",
       "    <tr style=\"text-align: right;\">\n",
       "      <th></th>\n",
       "      <th>top_genre</th>\n",
       "    </tr>\n",
       "  </thead>\n",
       "  <tbody>\n",
       "    <tr>\n",
       "      <th>4</th>\n",
       "      <td>Drama</td>\n",
       "    </tr>\n",
       "  </tbody>\n",
       "</table>\n",
       "</div>"
      ],
      "text/plain": [
       "  top_genre\n",
       "4     Drama"
      ]
     },
     "execution_count": 24,
     "metadata": {},
     "output_type": "execute_result"
    }
   ],
   "source": [
    "# # Find the genre of the person with the most number of oscar winnings\n",
    "# # Find the genre of the person with the most number of oscar winnings.\n",
    "# # If there are more than one person with the same number of oscar wins, return the first one in alphabetic order.\n",
    "\n",
    "\n",
    "\n",
    "import pandas as pd\n",
    "import numpy as np\n",
    "nominee_information=pd.read_csv('nominee_information.csv')\n",
    "nominee_filmography=pd.read_csv('nominee_filmography.csv')\n",
    "oscar_nominees=pd.read_csv('oscar_nominees.csv')\n",
    "winner = oscar_nominees[oscar_nominees['winner'] == True]\n",
    "n_winnings = winner.groupby('nominee').size().to_frame('n_win').reset_index()\n",
    "merged = pd.merge(n_winnings, nominee_information, left_on = 'nominee', right_on = 'name', how = 'left')\n",
    "result = merged.groupby(['top_genre']).apply(lambda x: x.nlargest(1, 'n_win')).reset_index(drop=True).sort_values('n_win',ascending = False).head(1)\n",
    "print(result)\n",
    "result[['top_genre']]\n",
    "\n",
    "\n",
    "\n",
    "\n",
    "# with a as(select count(name),top_genre\n",
    "# from nominee_information i\n",
    "# join oscar_nominees n\n",
    "# on i.name=n.nominee\n",
    "# where winner='TRUE'\n",
    "# group by 2\n",
    "# order by 1 desc\n",
    "# limit 1)\n",
    "# select top_genre from a"
   ]
  },
  {
   "cell_type": "code",
   "execution_count": 18,
   "metadata": {
    "ExecuteTime": {
     "end_time": "2021-06-11T23:15:45.257327Z",
     "start_time": "2021-06-11T23:15:45.174321Z"
    }
   },
   "outputs": [
    {
     "name": "stdout",
     "output_type": "stream",
     "text": [
      "count a\n",
      "0    2\n",
      "1    1\n",
      "2    1\n",
      "Name: b, dtype: int64\n",
      "size a\n",
      "0    2\n",
      "1    1\n",
      "2    3\n",
      "Name: b, dtype: int64\n"
     ]
    }
   ],
   "source": [
    "df = pd.DataFrame({'a':[0,0,1,2,2,2], 'b':[1,2,3,4,np.NaN,np.NaN,], 'c':np.random.randn(6)})\n",
    "df\n",
    "print('count',df.groupby(['a'])['b'].count())\n",
    "\n",
    "print('size',df.groupby(['a'])['b'].size())\n"
   ]
  },
  {
   "cell_type": "code",
   "execution_count": 25,
   "metadata": {
    "ExecuteTime": {
     "end_time": "2021-06-11T23:47:48.968914Z",
     "start_time": "2021-06-11T23:47:48.920909Z"
    }
   },
   "outputs": [
    {
     "data": {
      "text/plain": [
       "110    Drama\n",
       "Name: top_genre, dtype: object"
      ]
     },
     "execution_count": 25,
     "metadata": {},
     "output_type": "execute_result"
    }
   ],
   "source": [
    "import pandas as pd\n",
    "\n",
    "merged_df = pd.merge(oscar_nominees, nominee_information,  how = 'left',  left_on = 'nominee', right_on = 'name')\n",
    "\n",
    "winner_df = merged_df[merged_df['winner'] == True]\n",
    "\n",
    "result = winner_df.groupby(['nominee', 'top_genre'])['winner'] .count().rename('n_winnings').reset_index().sort_values(['n_winnings', 'nominee'], ascending = [False, True])\n",
    "\n",
    "result['top_genre'].head(1)"
   ]
  },
  {
   "cell_type": "code",
   "execution_count": 30,
   "metadata": {
    "ExecuteTime": {
     "end_time": "2021-06-11T23:49:17.599490Z",
     "start_time": "2021-06-11T23:49:17.562489Z"
    }
   },
   "outputs": [
    {
     "data": {
      "text/plain": [
       "139    Drama\n",
       "Name: top_genre, dtype: object"
      ]
     },
     "execution_count": 30,
     "metadata": {},
     "output_type": "execute_result"
    }
   ],
   "source": [
    "# Import your libraries\n",
    "import pandas as pd\n",
    "\n",
    "# Start writing code\n",
    "oscar_nominees.head()\n",
    "\n",
    "df2= oscar_nominees[oscar_nominees[\"winner\"]][[\"nominee\",\"winner\"]]\n",
    "n_winnings = df2.groupby('nominee').size().to_frame('n_win').reset_index()\n",
    "winner= n_winnings.sort_values(by=[\"n_win\",\"nominee\"],ascending=[False,True])[[\"nominee\"]].values[0]\n",
    "\n",
    "nominee_information[nominee_information[\"name\"]==winner[0]][\"top_genre\"]"
   ]
  },
  {
   "cell_type": "code",
   "execution_count": null,
   "metadata": {},
   "outputs": [],
   "source": []
  }
 ],
 "metadata": {
  "kernelspec": {
   "display_name": "Python 3",
   "language": "python",
   "name": "python3"
  },
  "language_info": {
   "codemirror_mode": {
    "name": "ipython",
    "version": 3
   },
   "file_extension": ".py",
   "mimetype": "text/x-python",
   "name": "python",
   "nbconvert_exporter": "python",
   "pygments_lexer": "ipython3",
   "version": "3.7.6"
  }
 },
 "nbformat": 4,
 "nbformat_minor": 4
}
