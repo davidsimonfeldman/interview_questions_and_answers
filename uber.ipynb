{
 "cells": [
  {
   "cell_type": "code",
   "execution_count": null,
   "metadata": {
    "ExecuteTime": {
     "end_time": "2021-06-13T07:52:03.797795Z",
     "start_time": "2021-06-13T07:52:03.726017Z"
    }
   },
   "outputs": [],
   "source": [
    "# # Distance Per Dollar\n",
    "# # You’re given a dataset of uber rides with the traveling distance (‘distance_to_travel’) and cost (‘monetary_cost’) for each ride.\n",
    "# # For each date, find the difference between the distance-per-dollar for that date and the average distance-per-dollar for that year-month.\n",
    "# # Distance-per-dollar is defined as the distance traveled divided by the cost of the ride.\n",
    "# # The output should include the year-month (YYYY-MM) and the average difference in distance-per-dollar for said year-month as an absolute value rounded to the 2nd decimal. \n",
    "# # You should also count both success and failed request_status as the distance and cost values are populated for all ride requests. \n",
    "# # Also, assume that all dates are unique in the dataset.\n",
    "# # Order your results by earliest request date first.\n",
    "\n",
    "\n",
    "\n",
    "\n",
    "\n",
    "\n",
    "import pandas as pd\n",
    "import numpy as np\n",
    "from datetime import datetime\n",
    "uber_request_logs=pd.read_csv('uber_request_logs.csv')\n",
    " \n",
    "uber_request_logs['month_year'] = uber_request_logs['request_date'].apply(pd.to_datetime)\n",
    "\n",
    "uber_request_logs['month_year'] = pd.to_datetime(uber_request_logs['request_date']).dt.to_period('M')\n",
    "uber_request_logs['monthly_dist_to_cost'] = uber_request_logs['distance_to_travel'] / \\\n",
    "    uber_request_logs['monetary_cost']\n",
    "uber_request_logs[\"avg_monthly_dist_cost\"] = uber_request_logs.groupby(['month_year'])['distance_to_travel'].transform(\n",
    "    'sum') / uber_request_logs.groupby(['month_year'])['monetary_cost'].transform('sum')\n",
    "uber_request_logs['mean_deviation'] = round(np.abs(\n",
    "    uber_request_logs['monthly_dist_to_cost'] - uber_request_logs[\"avg_monthly_dist_cost\"]), 2)\n",
    "\n",
    "result = uber_request_logs.groupby(['month_year'])['mean_deviation'].mean(\n",
    ").reset_index()\n",
    "result['mean_deviation'] = round(result['mean_deviation'],2)\n",
    "result\n",
    "\n",
    "\n",
    "\n",
    "# with a as (select request_date, (distance_to_travel/monetary_cost)dc,TO_CHAR(request_date, 'YYYY-MM') mnth,\n",
    "# avg(distance_to_travel/monetary_cost)over(partition by TO_CHAR(request_date, 'YYYY-MM')) \n",
    "# , \n",
    "# round(abs((distance_to_travel/monetary_cost)-avg(distance_to_travel/monetary_cost)over(partition by TO_CHAR(request_date, 'YYYY-MM'))) ::decimal,2) as diff\n",
    "#   from uber_request_logs\n",
    "# order by 1 desc)\n",
    "# select mnth request_mnth ,avg(diff) difference from a\n",
    "# group by 1\n",
    "# order by 1 "
   ]
  },
  {
   "cell_type": "code",
   "execution_count": null,
   "metadata": {
    "ExecuteTime": {
     "end_time": "2021-06-13T08:26:09.386875Z",
     "start_time": "2021-06-13T08:26:09.337278Z"
    }
   },
   "outputs": [],
   "source": [
    "# Import your libraries\n",
    "import pandas as pd\n",
    "from datetime import datetime\n",
    "\n",
    "uber_request_logs=pd.read_csv('uber_request_logs.csv')\n",
    "uber_request_logs['request_date']=pd.to_datetime(uber_request_logs['request_date'], errors='coerce')\n",
    "uber_request_logs['month_year'] = uber_request_logs['request_date'].dt.to_period('M') \n",
    "# print(uber_request_logs)  \n",
    "# uber_request_logs['month_year'] = uber_request_logs.request_date.dt.strftime('%Y-%m')\n",
    "# print(uber_request_logs) \n",
    "uber_request_logs['distance_per_dollar'] = uber_request_logs['distance_to_travel']  / uber_request_logs['monetary_cost']\n",
    "\n",
    "avg_amts = uber_request_logs.groupby('month_year')['distance_per_dollar'].mean().reset_index()\n",
    "avg_amts.columns = ['month_year', 'avg_distance_per_dollar']\n",
    "\n",
    "uber_request_logs = uber_request_logs.merge(avg_amts, on='month_year')\n",
    "\n",
    "uber_request_logs['difference_between'] = abs(uber_request_logs['distance_per_dollar'] - uber_request_logs['avg_distance_per_dollar']).round(2)\n",
    "\n",
    "uber_request_logs.groupby('month_year')['difference_between'].mean().reset_index()"
   ]
  },
  {
   "cell_type": "code",
   "execution_count": null,
   "metadata": {
    "ExecuteTime": {
     "end_time": "2021-06-14T07:35:22.632606Z",
     "start_time": "2021-06-14T07:35:22.525381Z"
    }
   },
   "outputs": [],
   "source": [
    "# Import your libraries\n",
    "import pandas as pd\n",
    "import numpy as np\n",
    "import datetime \n",
    "# Start writing code\n",
    "uber_request_logs=pd.read_csv('uber_request_logs.csv')\n",
    "\n",
    "uber_request_logs.head()\n",
    "df = uber_request_logs\n",
    "\n",
    "df['request_date'] = pd.to_datetime(df['request_date'])\n",
    "df['date'] = df['request_date'].dt.to_period('M')\n",
    "df['distance_dollar'] = df['distance_to_travel'] / df['monetary_cost']\n",
    "\n",
    "df['average_distance'] = df.groupby('date')['distance_to_travel'].transform('sum')\n",
    "\n",
    "df['monetary_cost'] = df.groupby('date')['monetary_cost'].transform('sum')\n",
    "df['average_distance_dollar'] = df['average_distance']/ df['monetary_cost'] \n",
    "\n",
    "\n",
    "\n",
    "df['diff'] = round(np.abs(df['distance_dollar'] - df['average_distance_dollar']),2)\n",
    "print('df')\n",
    "print(df)\n",
    "result = df.groupby('date')['diff'].mean().to_frame('avr').reset_index()\n",
    "\n",
    "result['avr'] = round(result['avr'],2)\n",
    "result"
   ]
  },
  {
   "cell_type": "code",
   "execution_count": null,
   "metadata": {},
   "outputs": [],
   "source": []
  },
  {
   "cell_type": "code",
   "execution_count": null,
   "metadata": {
    "ExecuteTime": {
     "end_time": "2021-06-14T17:07:53.193934Z",
     "start_time": "2021-06-14T17:07:52.264039Z"
    }
   },
   "outputs": [],
   "source": [
    "# Find the total costs and total customers acquired in each year\n",
    "# Find the total costs and total customers acquired in each year.\n",
    "# Output the year along with corresponding total money spent and total acquired customers.\n",
    "\n",
    "import pandas as pd\n",
    "import numpy as np\n",
    "uber_advertising=pd.read_csv('uber_advertising.csv')\n",
    "\n",
    "result = uber_advertising.groupby(['year']).agg({'money_spent':'sum','customers_acquired':'sum'}).reset_index()\n",
    "result\n",
    "\n",
    "# # select year,sum(customers_acquired) total_customers_acquired,sum(money_spent) total_money_spent\n",
    "# # from uber_advertising\n",
    "\n",
    "# # group by 1"
   ]
  },
  {
   "cell_type": "code",
   "execution_count": null,
   "metadata": {
    "ExecuteTime": {
     "end_time": "2021-06-14T17:09:15.676226Z",
     "start_time": "2021-06-14T17:09:15.623476Z"
    }
   },
   "outputs": [],
   "source": [
    "\n",
    "a=uber_advertising.groupby('year')['money_spent'].sum().reset_index()\n",
    "b=uber_advertising.groupby('year')['customers_acquired'].sum().reset_index()\n",
    "df=a.merge(b,on='year')\n",
    "df"
   ]
  },
  {
   "cell_type": "code",
   "execution_count": 5,
   "metadata": {
    "ExecuteTime": {
     "end_time": "2021-06-14T17:50:37.874067Z",
     "start_time": "2021-06-14T17:50:37.832850Z"
    }
   },
   "outputs": [
    {
     "name": "stdout",
     "output_type": "stream",
     "text": [
      "  advertising_channel  customers_acquired  money_spent\n",
      "0          billboards                1800       200200\n",
      "1               buses                2300        70000\n",
      "2            busstops                 400         7000\n",
      "3         celebrities                1800       123555\n",
      "4               radio                  19         1500\n",
      "5                  tv                4700       300000\n"
     ]
    },
    {
     "data": {
      "text/html": [
       "<div>\n",
       "<style scoped>\n",
       "    .dataframe tbody tr th:only-of-type {\n",
       "        vertical-align: middle;\n",
       "    }\n",
       "\n",
       "    .dataframe tbody tr th {\n",
       "        vertical-align: top;\n",
       "    }\n",
       "\n",
       "    .dataframe thead th {\n",
       "        text-align: right;\n",
       "    }\n",
       "</style>\n",
       "<table border=\"1\" class=\"dataframe\">\n",
       "  <thead>\n",
       "    <tr style=\"text-align: right;\">\n",
       "      <th></th>\n",
       "      <th>advertising_channel</th>\n",
       "      <th>customers_acquired</th>\n",
       "      <th>money_spent</th>\n",
       "    </tr>\n",
       "  </thead>\n",
       "  <tbody>\n",
       "    <tr>\n",
       "      <th>1</th>\n",
       "      <td>buses</td>\n",
       "      <td>2300</td>\n",
       "      <td>70000</td>\n",
       "    </tr>\n",
       "    <tr>\n",
       "      <th>3</th>\n",
       "      <td>celebrities</td>\n",
       "      <td>1800</td>\n",
       "      <td>123555</td>\n",
       "    </tr>\n",
       "    <tr>\n",
       "      <th>0</th>\n",
       "      <td>billboards</td>\n",
       "      <td>1800</td>\n",
       "      <td>200200</td>\n",
       "    </tr>\n",
       "    <tr>\n",
       "      <th>5</th>\n",
       "      <td>tv</td>\n",
       "      <td>4700</td>\n",
       "      <td>300000</td>\n",
       "    </tr>\n",
       "  </tbody>\n",
       "</table>\n",
       "</div>"
      ],
      "text/plain": [
       "  advertising_channel  customers_acquired  money_spent\n",
       "1               buses                2300        70000\n",
       "3         celebrities                1800       123555\n",
       "0          billboards                1800       200200\n",
       "5                  tv                4700       300000"
      ]
     },
     "execution_count": 5,
     "metadata": {},
     "output_type": "execute_result"
    }
   ],
   "source": [
    "# Positive Ad Channels\n",
    "# Find the advertising channel with the smallest maximum yearly spending that still brings in more than 1500 customers each year.\n",
    "import pandas as pd\n",
    "import numpy as np\n",
    "uber_advertising=pd.read_csv('uber_advertising.csv')\n",
    "\n",
    "grouped = uber_advertising.groupby(['advertising_channel']).agg({'customers_acquired':'min','money_spent':'max'}).reset_index()\n",
    "print(grouped)\n",
    "result = grouped[(grouped['customers_acquired']>1500)].sort_values('money_spent') \n",
    "result\n",
    "\n",
    "\n",
    "# with a as (select  advertising_channel,max(money_spent) mx\n",
    "# from uber_advertising\n",
    "# where customers_acquired>1500\n",
    "# group by 1\n",
    "# order by 2)\n",
    "# select  advertising_channel,mx\n",
    "# from a\n",
    "# where mx=(select min(mx) from a)\n",
    "   "
   ]
  },
  {
   "cell_type": "code",
   "execution_count": 10,
   "metadata": {
    "ExecuteTime": {
     "end_time": "2021-06-14T18:06:26.067949Z",
     "start_time": "2021-06-14T18:06:26.014173Z"
    }
   },
   "outputs": [
    {
     "name": "stdout",
     "output_type": "stream",
     "text": [
      "  request_date  request_id  distance_to_travel  monetary_cost  \\\n",
      "0      2020-01           2               93.36          22.68   \n",
      "1      2020-02           4               61.58           8.04   \n",
      "2      2020-03           6               45.57           4.68   \n",
      "3      2020-04           8               48.22          11.20   \n",
      "4      2020-05          46              140.34          51.89   \n",
      "5      2020-06          27               54.30          25.03   \n",
      "6      2020-07          38              162.47          38.00   \n",
      "7      2020-08          35              178.81          29.96   \n",
      "8      2020-09          24               98.77          38.55   \n",
      "9      2020-10          20               53.76          22.94   \n",
      "\n",
      "   driver_to_client_distance  distance_per_dollar  forecast  \n",
      "0                      19.90             4.116402       NaN  \n",
      "1                      44.26             7.659204  4.116402  \n",
      "2                      24.19             9.737179  7.659204  \n",
      "3                      48.82             4.305357  9.737179  \n",
      "4                      43.67             2.704567  4.305357  \n",
      "5                      53.91             2.169397  2.704567  \n",
      "6                      60.00             4.275526  2.169397  \n",
      "7                      95.21             5.968291  4.275526  \n",
      "8                      52.70             2.562127  5.968291  \n",
      "9                      18.74             2.343505  2.562127  \n"
     ]
    },
    {
     "data": {
      "text/plain": [
       "2.75"
      ]
     },
     "execution_count": 10,
     "metadata": {},
     "output_type": "execute_result"
    }
   ],
   "source": [
    "# Naive Forecasting\n",
    "# Some forecasting methods are extremely simple and surprisingly effective.\n",
    "# Naïve forecast is one of them; we simply set all forecasts to be the value of the last observation. \n",
    "# Our goal is to develop a naïve forecast for a new metric called \"distance per dollar\" defined as the (distance_to_travel/monetary_cost) in our dataset and measure its accuracy.\n",
    "\n",
    "# To develop this forecast, aggregate 'distance per dollar' values at a monthly level. \n",
    "# This value becomes your actual value for the current month.\n",
    "# The next step is to populate the forecasted value for each month. \n",
    "# This can be achieved simply by getting the previous month's value in a separate column.\n",
    "# Now, we have actual and forecasted values.\n",
    "# This is your naïve forecast.\n",
    "# Let’s evaluate our model by calculating an error matrix called root mean squared error (RMSE).\n",
    "# RMSE is defined as sqrt(mean(square(actual - forecast)). \n",
    "# Report out the RMSE rounded to the 2nd decimal spot.\n",
    "\n",
    "\n",
    "\n",
    "\n",
    "# Import your libraries\n",
    "import pandas as pd\n",
    "import numpy as np\n",
    "uber_request_logs=pd.read_csv('uber_request_logs.csv')\n",
    "\n",
    "x = uber_request_logs\n",
    "x['request_date'] = pd.to_datetime(x['request_date'])\n",
    "# df['date'] = df['request_date'].dt.to_period('M')\n",
    "x.request_date = x.request_date.dt.strftime('%Y-%m')\n",
    "# print(x)\n",
    "x = x.groupby('request_date', as_index=False).sum()\n",
    "# print(x)\n",
    "x['distance_per_dollar'] = x.distance_to_travel/x.monetary_cost\n",
    "# print(x)\n",
    "x['forecast'] = x['distance_per_dollar'].shift()\n",
    "print(x)\n",
    "rmse = np.round(np.sqrt(np.mean((x['distance_per_dollar']-x['forecast'])**2)),2)\n",
    "rmse\n",
    "\n",
    "# with a as (select extract(month from request_date) as month,\n",
    "# sum(distance_to_travel) sd ,sum(monetary_cost) sc   \n",
    "# from uber_request_logs \n",
    "# group by 1\n",
    "# order by 1\n",
    "# ),\n",
    "# b as (\n",
    "# select month,sd,sc ,\n",
    "# LAG(sd,1) OVER ( ORDER BY month ) previous_sd,\n",
    "# LAG(sc,1) OVER ( ORDER BY month ) previous_sc\n",
    "# from a),\n",
    "# c as (\n",
    "# select month ,sd/sc actual ,previous_sd/previous_sc forecast\n",
    "\n",
    "# from b),\n",
    "# d as (select  month, POWER(actual-forecast,2) p  from c),\n",
    "# e as \n",
    "# (select sqrt(avg(p))avg_rental from d)\n",
    "# select ROUND(avg_rental :: decimal,2 )  from e"
   ]
  },
  {
   "cell_type": "code",
   "execution_count": 14,
   "metadata": {
    "ExecuteTime": {
     "end_time": "2021-06-15T12:20:13.306908Z",
     "start_time": "2021-06-15T12:20:13.270743Z"
    }
   },
   "outputs": [
    {
     "data": {
      "text/html": [
       "<div>\n",
       "<style scoped>\n",
       "    .dataframe tbody tr th:only-of-type {\n",
       "        vertical-align: middle;\n",
       "    }\n",
       "\n",
       "    .dataframe tbody tr th {\n",
       "        vertical-align: top;\n",
       "    }\n",
       "\n",
       "    .dataframe thead th {\n",
       "        text-align: right;\n",
       "    }\n",
       "</style>\n",
       "<table border=\"1\" class=\"dataframe\">\n",
       "  <thead>\n",
       "    <tr style=\"text-align: right;\">\n",
       "      <th></th>\n",
       "      <th>purpose</th>\n",
       "      <th>total_miles_per_business</th>\n",
       "    </tr>\n",
       "  </thead>\n",
       "  <tbody>\n",
       "    <tr>\n",
       "      <th>7</th>\n",
       "      <td>Meeting</td>\n",
       "      <td>2851.3</td>\n",
       "    </tr>\n",
       "    <tr>\n",
       "      <th>4</th>\n",
       "      <td>Customer Visit</td>\n",
       "      <td>2089.5</td>\n",
       "    </tr>\n",
       "    <tr>\n",
       "      <th>6</th>\n",
       "      <td>Meal/Entertain</td>\n",
       "      <td>911.7</td>\n",
       "    </tr>\n",
       "  </tbody>\n",
       "</table>\n",
       "</div>"
      ],
      "text/plain": [
       "          purpose  total_miles_per_business\n",
       "7         Meeting                    2851.3\n",
       "4  Customer Visit                    2089.5\n",
       "6  Meal/Entertain                     911.7"
      ]
     },
     "execution_count": 14,
     "metadata": {},
     "output_type": "execute_result"
    }
   ],
   "source": [
    "# Highest Total Miles\n",
    "# You’re given a table of Uber rides that contain the mileage and the purpose for the business expense.  \n",
    "# You’re asked to find business purposes that generate the most miles driven for passengers that use Uber for their business transportation. \n",
    "# Find the top 3 business purpose categories by total mileage.\n",
    "\n",
    "\n",
    "# Import your libraries\n",
    "import pandas as pd\n",
    "my_uber_drives=pd.read_csv('my_uber_drives.csv')\n",
    "\n",
    "# Start writing code\n",
    "\n",
    "x = my_uber_drives.groupby('purpose')[\"miles\"].sum().to_frame(\"total_miles_per_business\").reset_index().sort_values('total_miles_per_business', ascending=False)[:3]\n",
    "x\n",
    "\n",
    "# select   purpose,sum(miles)\n",
    "# from my_uber_drives\n",
    "# where purpose is not null\n",
    "# group by 1\n",
    "# order by 2 desc\n",
    "# limit 3 "
   ]
  },
  {
   "cell_type": "code",
   "execution_count": null,
   "metadata": {},
   "outputs": [],
   "source": []
  }
 ],
 "metadata": {
  "kernelspec": {
   "display_name": "Python 3",
   "language": "python",
   "name": "python3"
  },
  "language_info": {
   "codemirror_mode": {
    "name": "ipython",
    "version": 3
   },
   "file_extension": ".py",
   "mimetype": "text/x-python",
   "name": "python",
   "nbconvert_exporter": "python",
   "pygments_lexer": "ipython3",
   "version": "3.7.6"
  }
 },
 "nbformat": 4,
 "nbformat_minor": 4
}
