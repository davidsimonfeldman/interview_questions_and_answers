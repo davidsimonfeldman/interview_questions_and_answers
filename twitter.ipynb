{
 "cells": [
  {
   "cell_type": "code",
   "execution_count": 2,
   "metadata": {
    "ExecuteTime": {
     "end_time": "2021-06-07T21:01:26.190511Z",
     "start_time": "2021-06-07T21:01:24.413981Z"
    }
   },
   "outputs": [],
   "source": [
    "import pandas as pd"
   ]
  },
  {
   "cell_type": "code",
   "execution_count": 4,
   "metadata": {
    "ExecuteTime": {
     "end_time": "2021-06-07T21:02:21.776830Z",
     "start_time": "2021-06-07T21:02:21.726269Z"
    }
   },
   "outputs": [
    {
     "name": "stdout",
     "output_type": "stream",
     "text": [
      "<class 'pandas.core.frame.DataFrame'>\n",
      "RangeIndex: 30 entries, 0 to 29\n",
      "Data columns (total 14 columns):\n",
      " #   Column          Non-Null Count  Dtype \n",
      "---  ------          --------------  ----- \n",
      " 0   id              30 non-null     int64 \n",
      " 1   first_name      30 non-null     object\n",
      " 2   last_name       30 non-null     object\n",
      " 3   age             30 non-null     int64 \n",
      " 4   sex             30 non-null     object\n",
      " 5   employee_title  30 non-null     object\n",
      " 6   department      30 non-null     object\n",
      " 7   salary          30 non-null     int64 \n",
      " 8   target          30 non-null     int64 \n",
      " 9   bonus           30 non-null     int64 \n",
      " 10  email           30 non-null     object\n",
      " 11  city            30 non-null     object\n",
      " 12  address         21 non-null     object\n",
      " 13  manager_id      30 non-null     int64 \n",
      "dtypes: int64(6), object(8)\n",
      "memory usage: 3.4+ KB\n",
      "None\n"
     ]
    }
   ],
   "source": [
    "x=pd.read_csv('twitter.csv')\n",
    "x\n",
    "print(x.info())\n"
   ]
  },
  {
   "cell_type": "code",
   "execution_count": 5,
   "metadata": {
    "ExecuteTime": {
     "end_time": "2021-06-05T19:41:54.812415Z",
     "start_time": "2021-06-05T19:41:54.756710Z"
    }
   },
   "outputs": [
    {
     "data": {
      "text/html": [
       "<div>\n",
       "<style scoped>\n",
       "    .dataframe tbody tr th:only-of-type {\n",
       "        vertical-align: middle;\n",
       "    }\n",
       "\n",
       "    .dataframe tbody tr th {\n",
       "        vertical-align: top;\n",
       "    }\n",
       "\n",
       "    .dataframe thead th {\n",
       "        text-align: right;\n",
       "    }\n",
       "</style>\n",
       "<table border=\"1\" class=\"dataframe\">\n",
       "  <thead>\n",
       "    <tr style=\"text-align: right;\">\n",
       "      <th></th>\n",
       "      <th>department</th>\n",
       "      <th>salary</th>\n",
       "    </tr>\n",
       "  </thead>\n",
       "  <tbody>\n",
       "    <tr>\n",
       "      <th>0</th>\n",
       "      <td>Audit</td>\n",
       "      <td>1000</td>\n",
       "    </tr>\n",
       "    <tr>\n",
       "      <th>1</th>\n",
       "      <td>Management</td>\n",
       "      <td>175000</td>\n",
       "    </tr>\n",
       "    <tr>\n",
       "      <th>2</th>\n",
       "      <td>Sales</td>\n",
       "      <td>1300</td>\n",
       "    </tr>\n",
       "  </tbody>\n",
       "</table>\n",
       "</div>"
      ],
      "text/plain": [
       "   department  salary\n",
       "0       Audit    1000\n",
       "1  Management  175000\n",
       "2       Sales    1300"
      ]
     },
     "execution_count": 5,
     "metadata": {},
     "output_type": "execute_result"
    }
   ],
   "source": [
    "# Median Salary\n",
    "# Find the median employee salary of each department.\n",
    "# Output the department name along with the corresponding salary rounded to the nearest whole dollar.\n",
    "import pandas as pd\n",
    "\n",
    "# Start writing code\n",
    "employee=x \n",
    "salary = employee[employee['salary'] != 0]\n",
    "result = salary.groupby(['department'])['salary'].median().reset_index()\n",
    "result"
   ]
  },
  {
   "cell_type": "code",
   "execution_count": null,
   "metadata": {},
   "outputs": [],
   "source": []
  },
  {
   "cell_type": "code",
   "execution_count": 6,
   "metadata": {
    "ExecuteTime": {
     "end_time": "2021-06-07T21:03:23.712893Z",
     "start_time": "2021-06-07T21:03:23.629879Z"
    }
   },
   "outputs": [
    {
     "name": "stdout",
     "output_type": "stream",
     "text": [
      "<class 'pandas.core.frame.DataFrame'>\n",
      "RangeIndex: 30 entries, 0 to 29\n",
      "Data columns (total 14 columns):\n",
      " #   Column          Non-Null Count  Dtype \n",
      "---  ------          --------------  ----- \n",
      " 0   id              30 non-null     int64 \n",
      " 1   first_name      30 non-null     object\n",
      " 2   last_name       30 non-null     object\n",
      " 3   age             30 non-null     int64 \n",
      " 4   sex             30 non-null     object\n",
      " 5   employee_title  30 non-null     object\n",
      " 6   department      30 non-null     object\n",
      " 7   salary          30 non-null     int64 \n",
      " 8   target          30 non-null     int64 \n",
      " 9   bonus           30 non-null     int64 \n",
      " 10  email           30 non-null     object\n",
      " 11  city            30 non-null     object\n",
      " 12  address         21 non-null     object\n",
      " 13  manager_id      30 non-null     int64 \n",
      "dtypes: int64(6), object(8)\n",
      "memory usage: 3.4+ KB\n",
      "None\n"
     ]
    },
    {
     "data": {
      "text/html": [
       "<div>\n",
       "<style scoped>\n",
       "    .dataframe tbody tr th:only-of-type {\n",
       "        vertical-align: middle;\n",
       "    }\n",
       "\n",
       "    .dataframe tbody tr th {\n",
       "        vertical-align: top;\n",
       "    }\n",
       "\n",
       "    .dataframe thead th {\n",
       "        text-align: right;\n",
       "    }\n",
       "</style>\n",
       "<table border=\"1\" class=\"dataframe\">\n",
       "  <thead>\n",
       "    <tr style=\"text-align: right;\">\n",
       "      <th></th>\n",
       "      <th>department</th>\n",
       "      <th>salary</th>\n",
       "    </tr>\n",
       "  </thead>\n",
       "  <tbody>\n",
       "    <tr>\n",
       "      <th>0</th>\n",
       "      <td>Audit</td>\n",
       "      <td>1100</td>\n",
       "    </tr>\n",
       "    <tr>\n",
       "      <th>1</th>\n",
       "      <td>Audit</td>\n",
       "      <td>1000</td>\n",
       "    </tr>\n",
       "    <tr>\n",
       "      <th>2</th>\n",
       "      <td>Audit</td>\n",
       "      <td>700</td>\n",
       "    </tr>\n",
       "    <tr>\n",
       "      <th>3</th>\n",
       "      <td>Management</td>\n",
       "      <td>250000</td>\n",
       "    </tr>\n",
       "    <tr>\n",
       "      <th>4</th>\n",
       "      <td>Management</td>\n",
       "      <td>200000</td>\n",
       "    </tr>\n",
       "    <tr>\n",
       "      <th>5</th>\n",
       "      <td>Management</td>\n",
       "      <td>150000</td>\n",
       "    </tr>\n",
       "    <tr>\n",
       "      <th>6</th>\n",
       "      <td>Sales</td>\n",
       "      <td>2200</td>\n",
       "    </tr>\n",
       "    <tr>\n",
       "      <th>7</th>\n",
       "      <td>Sales</td>\n",
       "      <td>2000</td>\n",
       "    </tr>\n",
       "    <tr>\n",
       "      <th>8</th>\n",
       "      <td>Sales</td>\n",
       "      <td>1500</td>\n",
       "    </tr>\n",
       "  </tbody>\n",
       "</table>\n",
       "</div>"
      ],
      "text/plain": [
       "   department  salary\n",
       "0       Audit    1100\n",
       "1       Audit    1000\n",
       "2       Audit     700\n",
       "3  Management  250000\n",
       "4  Management  200000\n",
       "5  Management  150000\n",
       "6       Sales    2200\n",
       "7       Sales    2000\n",
       "8       Sales    1500"
      ]
     },
     "execution_count": 6,
     "metadata": {},
     "output_type": "execute_result"
    }
   ],
   "source": [
    "# Unique Salaries\n",
    "# Find the top three unique salaries for each department. \n",
    "# Output the department name and the top 3 unique salaries by each department.\n",
    "# Order your results alphabetically by department and then by highest salary to lowest.\n",
    "# Import your libraries\n",
    "import pandas as pd\n",
    "x=pd.read_csv('twitter.csv')\n",
    "\n",
    "# Start writing code\n",
    "print(x.info())\n",
    "df= x[['department','salary']].drop_duplicates() \n",
    "top3 = df.groupby('department')['salary'].nlargest(3).reset_index()\n",
    "\n",
    "result = top3[['department','salary']]\n",
    "result"
   ]
  },
  {
   "cell_type": "code",
   "execution_count": null,
   "metadata": {},
   "outputs": [],
   "source": []
  }
 ],
 "metadata": {
  "kernelspec": {
   "display_name": "Python 3",
   "language": "python",
   "name": "python3"
  },
  "language_info": {
   "codemirror_mode": {
    "name": "ipython",
    "version": 3
   },
   "file_extension": ".py",
   "mimetype": "text/x-python",
   "name": "python",
   "nbconvert_exporter": "python",
   "pygments_lexer": "ipython3",
   "version": "3.7.6"
  }
 },
 "nbformat": 4,
 "nbformat_minor": 4
}
